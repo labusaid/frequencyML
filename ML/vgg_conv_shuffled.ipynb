{
  "nbformat": 4,
  "nbformat_minor": 0,
  "metadata": {
    "colab": {
      "name": "vgg_conv.ipynb",
      "provenance": []
    },
    "kernelspec": {
      "name": "python3",
      "display_name": "Python 3"
    },
    "language_info": {
      "name": "python"
    }
  },
  "cells": [
    {
      "cell_type": "code",
      "metadata": {
        "colab": {
          "base_uri": "https://localhost:8080/"
        },
        "id": "YSV-DAk9sizm",
        "outputId": "efdb777e-e038-47a2-e5b6-014980daeff8"
      },
      "source": [
        "! unzip /content/drive/MyDrive/DS_shuffled.zip -d /content/"
      ],
      "execution_count": 1,
      "outputs": [
        {
          "output_type": "stream",
          "name": "stdout",
          "text": [
            "Archive:  /content/drive/MyDrive/DS_shuffled.zip\n",
            "   creating: /content/content/DeepSig_shuffled/\n",
            "  inflating: /content/content/DeepSig_shuffled/datasets.desktop  \n",
            "  inflating: /content/content/DeepSig_shuffled/DeepSig_XYZ_OSC.0001_1024_Shuffled.hdf5  \n",
            "  inflating: /content/content/DeepSig_shuffled/classes-fixed.json  \n",
            "  inflating: /content/content/DeepSig_shuffled/LICENSE.TXT  \n",
            "  inflating: /content/content/DeepSig_shuffled/classes.txt  \n",
            "  inflating: /content/content/DeepSig_shuffled/classes-fixed.txt  \n"
          ]
        }
      ]
    },
    {
      "cell_type": "code",
      "metadata": {
        "colab": {
          "base_uri": "https://localhost:8080/"
        },
        "id": "sNHsBXvss8GL",
        "outputId": "e91643e1-21a2-4d8d-d71d-156ca872b707"
      },
      "source": [
        "#code block for loading in DeepSig data from hdf5 file\n",
        "import tensorflow as tf\n",
        "import h5py\n",
        "import numpy as np\n",
        "import json\n",
        "import pandas as pd\n",
        "import math\n",
        "\n",
        "# Open the dataset\n",
        "hdf5_file = h5py.File(\"/content/content/DeepSig_shuffled/DeepSig_XYZ_OSC.0001_1024_Shuffled.hdf5\",  'r')\n",
        "# Load the modulation classes. You can also copy and paste the content of classes-fixed.txt.\n",
        "modulation_classes = json.load(open(\"/content/content/DeepSig_shuffled/classes-fixed.json\", 'r'))\n",
        "#List groups of the hdf5 file\n",
        "list(hdf5_file.keys())"
      ],
      "execution_count": 14,
      "outputs": [
        {
          "output_type": "execute_result",
          "data": {
            "text/plain": [
              "['X', 'Y', 'Z']"
            ]
          },
          "metadata": {},
          "execution_count": 14
        }
      ]
    },
    {
      "cell_type": "code",
      "metadata": {
        "id": "iheEamjtunO1"
      },
      "source": [
        "#Grabbing an eighth of the total data samples, dividing it into splits\n",
        "data = hdf5_file['X'][0::8]\n",
        "modulation_onehot = hdf5_file['Y'][0::8]\n",
        "snr = hdf5_file['Z'][0::8]\n",
        "\n",
        "#converting onehot back to normal\n",
        "mod_array = np.zeros(len(modulation_onehot))\n",
        "i = 0\n",
        "for x in modulation_onehot:\n",
        "    mod_array[i] = np.where(x==1)[0][0]\n",
        "    i = i + 1"
      ],
      "execution_count": 15,
      "outputs": []
    },
    {
      "cell_type": "code",
      "metadata": {
        "colab": {
          "base_uri": "https://localhost:8080/"
        },
        "id": "0Z9mZhIgqcP6",
        "outputId": "1b193ded-021d-4475-dabe-fdd6439839d8"
      },
      "source": [
        "from sklearn.utils import shuffle\n",
        "data, mod_array, snr = shuffle(data, mod_array, snr, random_state=0)\n",
        "\n",
        "print(data)\n",
        "print(modulation_onehot)\n",
        "print(snr)"
      ],
      "execution_count": 16,
      "outputs": [
        {
          "output_type": "stream",
          "name": "stdout",
          "text": [
            "[[[-0.48748383  0.289871  ]\n",
            "  [-0.10943886  0.10092989]\n",
            "  [ 0.1539666   0.01478273]\n",
            "  ...\n",
            "  [ 0.8174222  -0.86155516]\n",
            "  [ 0.90480685 -0.50140667]\n",
            "  [ 0.66664314 -0.4372452 ]]\n",
            "\n",
            " [[ 0.5737007   0.12489015]\n",
            "  [ 0.5311588   0.41893125]\n",
            "  [ 0.44867843  0.684345  ]\n",
            "  ...\n",
            "  [ 0.8114136   0.06359135]\n",
            "  [ 0.6394054   0.20864716]\n",
            "  [ 0.44694647  0.29225376]]\n",
            "\n",
            " [[ 0.16258396 -0.3454956 ]\n",
            "  [-0.0560893  -0.9101686 ]\n",
            "  [-1.2954125  -0.10088739]\n",
            "  ...\n",
            "  [ 0.62307304 -0.81322855]\n",
            "  [ 0.38167125  0.46994394]\n",
            "  [-1.0193765   0.48680335]]\n",
            "\n",
            " ...\n",
            "\n",
            " [[-0.8882095   0.8573086 ]\n",
            "  [-0.7635585   0.9484377 ]\n",
            "  [-0.6620279   0.9982166 ]\n",
            "  ...\n",
            "  [ 0.01837325  0.9636689 ]\n",
            "  [-0.19691336  0.8765645 ]\n",
            "  [-0.35165292  0.7468494 ]]\n",
            "\n",
            " [[-1.1415536   0.30011955]\n",
            "  [ 0.03811142  0.622609  ]\n",
            "  [-0.6100388  -0.01606742]\n",
            "  ...\n",
            "  [-0.3258155  -0.6628931 ]\n",
            "  [ 1.0614647  -1.006968  ]\n",
            "  [ 0.3346123   0.40247998]]\n",
            "\n",
            " [[ 1.0012457   0.04313583]\n",
            "  [ 0.99243045  0.21210092]\n",
            "  [ 0.94953865  0.42650628]\n",
            "  ...\n",
            "  [-0.28701356  0.94719577]\n",
            "  [-0.48460746  0.88082063]\n",
            "  [-0.64854103  0.7393187 ]]]\n",
            "[[0 1 0 ... 0 0 0]\n",
            " [0 0 1 ... 0 0 0]\n",
            " [0 0 0 ... 0 0 0]\n",
            " ...\n",
            " [0 0 0 ... 1 0 0]\n",
            " [0 0 0 ... 0 0 0]\n",
            " [0 0 0 ... 0 0 1]]\n",
            "[[  8]\n",
            " [ 14]\n",
            " [-16]\n",
            " ...\n",
            " [ 16]\n",
            " [-20]\n",
            " [ 16]]\n"
          ]
        }
      ]
    },
    {
      "cell_type": "code",
      "metadata": {
        "id": "O0j4ae25vFi0"
      },
      "source": [
        "trn_ind = math.floor(len(data) * .8)\n",
        "val_ind = math.floor(len(data) * .1)\n",
        "#test_ind = len(data) - trn_ind - val_ind\n",
        "\n",
        "training_set, training_label, training_snr = data[:trn_ind:], mod_array[:trn_ind:], snr[:trn_ind:]\n",
        "validation_set, validation_label, validation_snr = data[trn_ind:trn_ind+val_ind:], mod_array[trn_ind:trn_ind+val_ind:], snr[trn_ind:trn_ind+val_ind:]\n",
        "test_set, test_label, test_snr = data[trn_ind+val_ind::], mod_array[trn_ind+val_ind::], snr[trn_ind+val_ind::]\n",
        "\n",
        "tr_dataset = tf.data.Dataset.from_tensor_slices((training_set, training_label))\n",
        "val_dataset = tf.data.Dataset.from_tensor_slices((validation_set, validation_label))\n",
        "test_dataset = tf.data.Dataset.from_tensor_slices((test_set, test_label))"
      ],
      "execution_count": 17,
      "outputs": []
    },
    {
      "cell_type": "code",
      "metadata": {
        "id": "Pg3SNAv9yYx7"
      },
      "source": [
        "batch_size = 1024\n",
        "buf_size = 26624\n",
        "drop_rem = True\n",
        "\n",
        "tr_dataset = tr_dataset.shuffle(buffer_size=buf_size)\n",
        "tr_dataset = tr_dataset.batch(batch_size, drop_remainder=drop_rem)\n",
        "\n",
        "val_dataset = val_dataset.shuffle(buffer_size=1000)\n",
        "val_dataset = val_dataset.batch(batch_size=500, drop_remainder=True)\n",
        "\n",
        "test_dataset = test_dataset.shuffle(buffer_size=1000)\n",
        "test_dataset = test_dataset.batch(batch_size=500, drop_remainder=True)"
      ],
      "execution_count": 18,
      "outputs": []
    },
    {
      "cell_type": "code",
      "metadata": {
        "id": "Cu9VAUQYyoKt"
      },
      "source": [
        "#model variables\n",
        "img_width, img_height, img_channels = (1024, 2, 1)\n",
        "opt = 'Adam'\n",
        "lss = 'sparse_categorical_crossentropy'\n",
        "\n",
        "\n",
        "model = tf.keras.models.Sequential([\n",
        "      tf.keras.layers.Conv1D(64, 3, activation='relu', \n",
        "                  input_shape=(img_width, img_height)),\n",
        "      tf.keras.layers.MaxPooling1D(2, 2),\n",
        "      tf.keras.layers.Conv1D(64, 3, activation='relu'),\n",
        "      tf.keras.layers.MaxPooling1D(2),\n",
        "      tf.keras.layers.Conv1D(64, 3, activation='relu'),\n",
        "      tf.keras.layers.MaxPooling1D(2),\n",
        "      tf.keras.layers.Conv1D(64, 3, activation='relu'),\n",
        "      tf.keras.layers.MaxPooling1D(2),\n",
        "      tf.keras.layers.Conv1D(64, 3, activation='relu'),\n",
        "      tf.keras.layers.MaxPooling1D(2),\n",
        "      tf.keras.layers.Conv1D(64, 3, activation='relu'),\n",
        "      tf.keras.layers.MaxPooling1D(2),\n",
        "      tf.keras.layers.Conv1D(64, 3, activation='relu'),\n",
        "      tf.keras.layers.MaxPooling1D(2),\n",
        "      tf.keras.layers.Flatten(),\n",
        "      tf.keras.layers.Dense(128, activation=tf.nn.selu),\n",
        "      tf.keras.layers.Dense(128, activation=tf.nn.selu),\n",
        "      tf.keras.layers.Dense(24, activation=tf.nn.softmax)\n",
        "    ])\n",
        "\n",
        "model.compile(optimizer=opt, loss=lss, metrics=['accuracy'])"
      ],
      "execution_count": 19,
      "outputs": []
    },
    {
      "cell_type": "code",
      "metadata": {
        "colab": {
          "base_uri": "https://localhost:8080/"
        },
        "id": "DJxGkJpcyp2Y",
        "outputId": "6b662302-53cb-46d6-b1dd-46d202b95c95"
      },
      "source": [
        "model.fit(tr_dataset, epochs=10, validation_data=val_dataset, verbose=1)"
      ],
      "execution_count": 20,
      "outputs": [
        {
          "output_type": "stream",
          "name": "stdout",
          "text": [
            "Epoch 1/10\n",
            "249/249 [==============================] - 792s 3s/step - loss: 2.3409 - accuracy: 0.2177 - val_loss: 1.9175 - val_accuracy: 0.3229\n",
            "Epoch 2/10\n",
            "249/249 [==============================] - 751s 3s/step - loss: 1.8559 - accuracy: 0.3375 - val_loss: 1.7924 - val_accuracy: 0.3517\n",
            "Epoch 3/10\n",
            "249/249 [==============================] - 719s 3s/step - loss: 1.7839 - accuracy: 0.3589 - val_loss: 1.7342 - val_accuracy: 0.3759\n",
            "Epoch 4/10\n",
            "249/249 [==============================] - 733s 3s/step - loss: 1.7460 - accuracy: 0.3706 - val_loss: 1.7035 - val_accuracy: 0.3857\n",
            "Epoch 5/10\n",
            "249/249 [==============================] - 750s 3s/step - loss: 1.7217 - accuracy: 0.3791 - val_loss: 1.7047 - val_accuracy: 0.3824\n",
            "Epoch 6/10\n",
            "249/249 [==============================] - 775s 3s/step - loss: 1.7001 - accuracy: 0.3859 - val_loss: 1.6981 - val_accuracy: 0.3806\n",
            "Epoch 7/10\n",
            "249/249 [==============================] - 764s 3s/step - loss: 1.6881 - accuracy: 0.3906 - val_loss: 1.6698 - val_accuracy: 0.3966\n",
            "Epoch 8/10\n",
            "249/249 [==============================] - 750s 3s/step - loss: 1.6761 - accuracy: 0.3957 - val_loss: 1.6544 - val_accuracy: 0.4035\n",
            "Epoch 9/10\n",
            "249/249 [==============================] - 775s 3s/step - loss: 1.6614 - accuracy: 0.4014 - val_loss: 1.6576 - val_accuracy: 0.4079\n",
            "Epoch 10/10\n",
            "249/249 [==============================] - 787s 3s/step - loss: 1.6533 - accuracy: 0.4057 - val_loss: 1.6445 - val_accuracy: 0.4073\n"
          ]
        },
        {
          "output_type": "execute_result",
          "data": {
            "text/plain": [
              "<keras.callbacks.History at 0x7f3b3210ff10>"
            ]
          },
          "metadata": {},
          "execution_count": 20
        }
      ]
    },
    {
      "cell_type": "code",
      "metadata": {
        "id": "QwjP6_JuwJ2a"
      },
      "source": [
        "results = model.predict(test_set[:100:])"
      ],
      "execution_count": 21,
      "outputs": []
    },
    {
      "cell_type": "code",
      "metadata": {
        "colab": {
          "base_uri": "https://localhost:8080/"
        },
        "id": "TLynNCW4QUod",
        "outputId": "a9cb0cf3-75a7-4bc2-db4e-f86e7bcb097d"
      },
      "source": [
        "predictions = [p.argmax() for p in results]\n",
        "\n",
        "print(len(predictions))\n",
        "print(*[(c, a, c == a) for c, a in zip(test_label[:100:], predictions)], sep=\"\\n\")"
      ],
      "execution_count": 25,
      "outputs": [
        {
          "output_type": "stream",
          "name": "stdout",
          "text": [
            "100\n",
            "(1.0, 1, True)\n",
            "(17.0, 18, False)\n",
            "(13.0, 8, False)\n",
            "(13.0, 13, True)\n",
            "(22.0, 22, True)\n",
            "(2.0, 2, True)\n",
            "(5.0, 6, False)\n",
            "(15.0, 4, False)\n",
            "(3.0, 3, True)\n",
            "(21.0, 21, True)\n",
            "(22.0, 22, True)\n",
            "(12.0, 13, False)\n",
            "(12.0, 0, False)\n",
            "(13.0, 8, False)\n",
            "(7.0, 8, False)\n",
            "(17.0, 18, False)\n",
            "(2.0, 2, True)\n",
            "(17.0, 17, True)\n",
            "(2.0, 2, True)\n",
            "(3.0, 3, True)\n",
            "(12.0, 22, False)\n",
            "(0.0, 0, True)\n",
            "(13.0, 21, False)\n",
            "(9.0, 13, False)\n",
            "(22.0, 22, True)\n",
            "(7.0, 6, False)\n",
            "(1.0, 1, True)\n",
            "(6.0, 22, False)\n",
            "(23.0, 22, False)\n",
            "(19.0, 20, False)\n",
            "(16.0, 13, False)\n",
            "(12.0, 21, False)\n",
            "(23.0, 23, True)\n",
            "(20.0, 20, True)\n",
            "(12.0, 8, False)\n",
            "(7.0, 5, False)\n",
            "(21.0, 21, True)\n",
            "(10.0, 3, False)\n",
            "(17.0, 17, True)\n",
            "(6.0, 6, True)\n",
            "(10.0, 13, False)\n",
            "(8.0, 13, False)\n",
            "(7.0, 13, False)\n",
            "(4.0, 4, True)\n",
            "(3.0, 3, True)\n",
            "(23.0, 23, True)\n",
            "(6.0, 17, False)\n",
            "(14.0, 14, True)\n",
            "(10.0, 13, False)\n",
            "(21.0, 21, True)\n",
            "(23.0, 9, False)\n",
            "(16.0, 13, False)\n",
            "(11.0, 13, False)\n",
            "(15.0, 9, False)\n",
            "(3.0, 3, True)\n",
            "(3.0, 22, False)\n",
            "(18.0, 22, False)\n",
            "(16.0, 13, False)\n",
            "(10.0, 13, False)\n",
            "(11.0, 9, False)\n",
            "(2.0, 2, True)\n",
            "(11.0, 16, False)\n",
            "(22.0, 22, True)\n",
            "(2.0, 2, True)\n",
            "(23.0, 23, True)\n",
            "(15.0, 13, False)\n",
            "(10.0, 13, False)\n",
            "(5.0, 0, False)\n",
            "(14.0, 9, False)\n",
            "(18.0, 18, True)\n",
            "(8.0, 8, True)\n",
            "(0.0, 2, False)\n",
            "(4.0, 5, False)\n",
            "(19.0, 20, False)\n",
            "(17.0, 18, False)\n",
            "(3.0, 21, False)\n",
            "(19.0, 21, False)\n",
            "(6.0, 6, True)\n",
            "(15.0, 14, False)\n",
            "(22.0, 22, True)\n",
            "(10.0, 13, False)\n",
            "(17.0, 2, False)\n",
            "(0.0, 0, True)\n",
            "(20.0, 20, True)\n",
            "(18.0, 18, True)\n",
            "(19.0, 19, True)\n",
            "(23.0, 23, True)\n",
            "(3.0, 9, False)\n",
            "(11.0, 8, False)\n",
            "(18.0, 18, True)\n",
            "(5.0, 5, True)\n",
            "(20.0, 20, True)\n",
            "(11.0, 9, False)\n",
            "(21.0, 21, True)\n",
            "(20.0, 19, False)\n",
            "(19.0, 19, True)\n",
            "(6.0, 6, True)\n",
            "(1.0, 1, True)\n",
            "(1.0, 2, False)\n",
            "(16.0, 9, False)\n"
          ]
        }
      ]
    }
  ]
}
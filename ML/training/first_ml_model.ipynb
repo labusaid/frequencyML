{
 "cells": [
  {
   "cell_type": "code",
   "execution_count": 1,
   "metadata": {
    "_cell_guid": "b1076dfc-b9ad-4769-8c92-a6c4dae69d19",
    "_uuid": "8f2839f25d086af736a60e9eeb907d3b93b6e0e5",
    "execution": {
     "iopub.execute_input": "2021-10-22T00:28:12.276390Z",
     "iopub.status.busy": "2021-10-22T00:28:12.275843Z",
     "iopub.status.idle": "2021-10-22T00:30:11.929252Z",
     "shell.execute_reply": "2021-10-22T00:30:11.928340Z",
     "shell.execute_reply.started": "2021-10-22T00:28:12.276301Z"
    }
   },
   "outputs": [
    {
     "name": "stderr",
     "output_type": "stream",
     "text": [
      "2021-10-21 20:14:05.451869: W tensorflow/stream_executor/platform/default/dso_loader.cc:64] Could not load dynamic library 'libcudart.so.11.0'; dlerror: libcudart.so.11.0: cannot open shared object file: No such file or directory\n",
      "2021-10-21 20:14:05.451889: I tensorflow/stream_executor/cuda/cudart_stub.cc:29] Ignore above cudart dlerror if you do not have a GPU set up on your machine.\n",
      "2021-10-21 20:14:08.670363: W tensorflow/stream_executor/platform/default/dso_loader.cc:64] Could not load dynamic library 'libcuda.so.1'; dlerror: libcuda.so.1: cannot open shared object file: No such file or directory\n",
      "2021-10-21 20:14:08.670383: W tensorflow/stream_executor/cuda/cuda_driver.cc:269] failed call to cuInit: UNKNOWN ERROR (303)\n",
      "2021-10-21 20:14:08.670400: I tensorflow/stream_executor/cuda/cuda_diagnostics.cc:156] kernel driver does not appear to be running on this host (bolt): /proc/driver/nvidia/version does not exist\n",
      "2021-10-21 20:14:08.670599: I tensorflow/core/platform/cpu_feature_guard.cc:142] This TensorFlow binary is optimized with oneAPI Deep Neural Network Library (oneDNN) to use the following CPU instructions in performance-critical operations:  AVX2 FMA\n",
      "To enable them in other operations, rebuild TensorFlow with the appropriate compiler flags.\n",
      "2021-10-21 20:14:08.672587: W tensorflow/core/framework/cpu_allocator_impl.cc:80] Allocation of 1308622848 exceeds 10% of free system memory.\n"
     ]
    }
   ],
   "source": [
    "#RadioML(DeepSig) dataset file unloading and creation of Tensorflow Dataset\n",
    "\n",
    "import h5py\n",
    "import json\n",
    "import tensorflow as tf\n",
    "import numpy as np\n",
    "from numpy import argwhere\n",
    "\n",
    "# Open the dataset\n",
    "hdf5_file = h5py.File(\"../dataset/2018.01/GOLD_XYZ_OSC.0001_1024.hdf5\",  'r')\n",
    "# Load the modulation classes. You can also copy and paste the content of classes-fixed.txt.\n",
    "modulation_classes = json.load(open(\"../dataset/2018.01/classes-fixed.json\", 'r'))\n",
    "#List groups of the hdf5 file\n",
    "list(hdf5_file.keys())\n",
    "\n",
    "# Read the HDF5 groups\n",
    "# Dataset is to large for allocated RAM, so every fourth frame will be used, resulting in a fourth of the dataset being used\n",
    "data = hdf5_file['X'][0:1277952:8]\n",
    "modulation_onehot = hdf5_file['Y'][0:1277952:8]\n",
    "snr = hdf5_file['Z'][0:1277952:8]\n",
    "\n",
    "#creation of test dataset\n",
    "test_data = data[1277952::128]\n",
    "test_mod = modulation_onehot[1277952::128]\n",
    "test_snr = snr[1277952::128]\n",
    "\n",
    "# Closes the file\n",
    "hdf5_file.close()\n",
    "\n",
    "#converting from onehot to integer\n",
    "mod_array = np.zeros(len(modulation_onehot))\n",
    "i = 0\n",
    "for x in modulation_onehot:\n",
    "    mod_array[i] = np.where(x==1)[0][0]\n",
    "    i = i + 1\n",
    "\n",
    "\n",
    "    \n",
    "#taking the three arrays and converting them to a tf dataset object\n",
    "dataset = tf.data.Dataset.from_tensor_slices((data, mod_array))\n",
    "test_dataset = tf.data.Dataset.from_tensor_slices((test_data, test_mod))"
   ]
  },
  {
   "cell_type": "code",
   "execution_count": 2,
   "metadata": {
    "execution": {
     "iopub.execute_input": "2021-10-22T00:30:49.902712Z",
     "iopub.status.busy": "2021-10-22T00:30:49.902349Z",
     "iopub.status.idle": "2021-10-22T00:30:49.917229Z",
     "shell.execute_reply": "2021-10-22T00:30:49.916008Z",
     "shell.execute_reply.started": "2021-10-22T00:30:49.902683Z"
    }
   },
   "outputs": [],
   "source": [
    "#Tensorflow Dataset Object normalization, preprocessing, and customization block\n",
    "batch_size = 1024\n",
    "buf_size = 26624\n",
    "drop_rem = True\n",
    "\n",
    "dataset = dataset.shuffle(buffer_size=buf_size)\n",
    "dataset = dataset.batch(batch_size, drop_remainder=drop_rem)"
   ]
  },
  {
   "cell_type": "code",
   "execution_count": 3,
   "metadata": {
    "execution": {
     "iopub.execute_input": "2021-10-22T00:30:51.874725Z",
     "iopub.status.busy": "2021-10-22T00:30:51.874374Z",
     "iopub.status.idle": "2021-10-22T00:30:52.110670Z",
     "shell.execute_reply": "2021-10-22T00:30:52.109648Z",
     "shell.execute_reply.started": "2021-10-22T00:30:51.874694Z"
    }
   },
   "outputs": [],
   "source": [
    "#model variables\n",
    "img_width, img_height, img_channels = (1024, 2, 1)\n",
    "opt = 'Adam'\n",
    "lss = 'sparse_categorical_crossentropy'\n",
    "\n",
    "\n",
    "model = tf.keras.models.Sequential([\n",
    "      tf.keras.layers.Conv1D(64, 3, activation='relu', \n",
    "                  input_shape=(img_width, img_height)),\n",
    "      tf.keras.layers.MaxPooling1D(2, 2),\n",
    "      tf.keras.layers.Conv1D(64, 3, activation='relu'),\n",
    "      tf.keras.layers.MaxPooling1D(2),\n",
    "      tf.keras.layers.Conv1D(64, 3, activation='relu'),\n",
    "      tf.keras.layers.MaxPooling1D(2),\n",
    "      tf.keras.layers.Conv1D(64, 3, activation='relu'),\n",
    "      tf.keras.layers.MaxPooling1D(2),\n",
    "      tf.keras.layers.Conv1D(64, 3, activation='relu'),\n",
    "      tf.keras.layers.MaxPooling1D(2),\n",
    "      tf.keras.layers.Conv1D(64, 3, activation='relu'),\n",
    "      tf.keras.layers.MaxPooling1D(2),\n",
    "      tf.keras.layers.Conv1D(64, 3, activation='relu'),\n",
    "      tf.keras.layers.MaxPooling1D(2),\n",
    "      tf.keras.layers.Flatten(),\n",
    "      tf.keras.layers.Dense(128, activation=tf.nn.selu),\n",
    "      tf.keras.layers.Dense(128, activation=tf.nn.selu),\n",
    "      tf.keras.layers.Dense(24, activation=tf.nn.softmax)\n",
    "    ])\n",
    "\n",
    "model.compile(optimizer=opt, loss=lss, metrics=['accuracy'])\n"
   ]
  },
  {
   "cell_type": "code",
   "execution_count": 4,
   "metadata": {
    "execution": {
     "iopub.execute_input": "2021-10-22T00:30:54.116150Z",
     "iopub.status.busy": "2021-10-22T00:30:54.115743Z",
     "iopub.status.idle": "2021-10-22T00:56:53.587101Z",
     "shell.execute_reply": "2021-10-22T00:56:53.586142Z",
     "shell.execute_reply.started": "2021-10-22T00:30:54.116116Z"
    }
   },
   "outputs": [
    {
     "name": "stderr",
     "output_type": "stream",
     "text": [
      "2021-10-21 20:14:13.546887: W tensorflow/core/framework/cpu_allocator_impl.cc:80] Allocation of 1308622848 exceeds 10% of free system memory.\n",
      "2021-10-21 20:14:14.169045: W tensorflow/core/framework/cpu_allocator_impl.cc:80] Allocation of 1308622848 exceeds 10% of free system memory.\n"
     ]
    },
    {
     "name": "stdout",
     "output_type": "stream",
     "text": [
      "Epoch 1/5\n"
     ]
    },
    {
     "name": "stderr",
     "output_type": "stream",
     "text": [
      "2021-10-21 20:14:15.109262: I tensorflow/compiler/mlir/mlir_graph_optimization_pass.cc:185] None of the MLIR Optimization Passes are enabled (registered 2)\n",
      "2021-10-21 20:14:15.249475: W tensorflow/core/framework/cpu_allocator_impl.cc:80] Allocation of 267911168 exceeds 10% of free system memory.\n",
      "2021-10-21 20:14:15.311422: W tensorflow/core/framework/cpu_allocator_impl.cc:80] Allocation of 133955584 exceeds 10% of free system memory.\n"
     ]
    },
    {
     "name": "stdout",
     "output_type": "stream",
     "text": [
      "156/156 [==============================] - 122s 782ms/step - loss: 2.0178 - accuracy: 0.3066\n",
      "Epoch 2/5\n",
      "156/156 [==============================] - 130s 832ms/step - loss: 1.6829 - accuracy: 0.3422\n",
      "Epoch 3/5\n",
      "156/156 [==============================] - 124s 797ms/step - loss: 1.5956 - accuracy: 0.3787\n",
      "Epoch 4/5\n",
      "156/156 [==============================] - 125s 803ms/step - loss: 1.5893 - accuracy: 0.3872\n",
      "Epoch 5/5\n",
      "156/156 [==============================] - 126s 806ms/step - loss: 1.5885 - accuracy: 0.3893\n"
     ]
    },
    {
     "data": {
      "text/plain": [
       "<keras.callbacks.History at 0x7fe4a7fc94c0>"
      ]
     },
     "execution_count": 4,
     "metadata": {},
     "output_type": "execute_result"
    }
   ],
   "source": [
    "model.fit(dataset, epochs=5)"
   ]
  },
  {
   "cell_type": "code",
   "execution_count": 47,
   "metadata": {},
   "outputs": [
    {
     "name": "stdout",
     "output_type": "stream",
     "text": [
      "[ 0.  0.  0.  0.  0.  0.  0.  1.  1.  1.  1.  1.  1.  2.  2.  2.  2.  2.\n",
      "  2.  2.  3.  3.  3.  3.  3.  3.  4.  4.  4.  4.  4.  4.  4.  5.  5.  5.\n",
      "  5.  5.  5.  6.  6.  6.  6.  6.  6.  6.  7.  7.  7.  7.  7.  7.  8.  8.\n",
      "  8.  8.  8.  8.  8.  9.  9.  9.  9.  9.  9. 10. 10. 10. 10. 10. 10. 10.\n",
      " 11. 11. 11. 11. 11. 11. 12.]\n"
     ]
    }
   ],
   "source": [
    "# Open the dataset\n",
    "hdf5_file = h5py.File(\"../dataset/2018.01/GOLD_XYZ_OSC.0001_1024.hdf5\",  'r')\n",
    "\n",
    "to_test = hdf5_file['X'][:1277953:16384]\n",
    "to_test_label = hdf5_file['Y'][:1277953:16384]\n",
    "\n",
    "#converting from onehot to integer\n",
    "mod_array_test = np.zeros(len(to_test_label))\n",
    "i = 0\n",
    "for x in to_test_label:\n",
    "    mod_array_test[i] = np.where(x==1)[0][0]\n",
    "    i = i + 1\n",
    "\n",
    "# Closes the file\n",
    "hdf5_file.close()\n",
    "\n",
    "#print(to_test)\n",
    "print(mod_array_test)"
   ]
  },
  {
   "cell_type": "code",
   "execution_count": 48,
   "metadata": {
    "execution": {
     "iopub.execute_input": "2021-10-22T01:05:34.512552Z",
     "iopub.status.busy": "2021-10-22T01:05:34.511858Z",
     "iopub.status.idle": "2021-10-22T01:05:34.552132Z",
     "shell.execute_reply": "2021-10-22T01:05:34.550863Z",
     "shell.execute_reply.started": "2021-10-22T01:05:34.512514Z"
    }
   },
   "outputs": [
    {
     "name": "stdout",
     "output_type": "stream",
     "text": [
      "Prediction on test data\n",
      "test loss, test acc: [[6.7485431e-03 5.6077703e-03 4.7836611e-03 ... 5.6958734e-04\n",
      "  8.3384028e-04 9.8670786e-04]\n",
      " [6.0779038e-03 5.0213435e-03 4.2615305e-03 ... 4.8728369e-04\n",
      "  7.1420718e-04 8.4916782e-04]\n",
      " [4.6819029e-03 4.0467381e-03 3.3613329e-03 ... 2.5977354e-04\n",
      "  4.1184519e-04 4.9408939e-04]\n",
      " ...\n",
      " [2.2800094e-03 2.1928956e-03 1.6711229e-03 ... 2.5721449e-05\n",
      "  4.5258461e-05 5.3723001e-05]\n",
      " [1.9068668e-03 1.7143006e-03 1.4685778e-03 ... 3.3857799e-05\n",
      "  6.8288988e-05 7.1069611e-05]\n",
      " [6.2868539e-03 5.2415687e-03 4.4609006e-03 ... 5.2801531e-04\n",
      "  7.8517059e-04 9.3135599e-04]]\n"
     ]
    }
   ],
   "source": [
    "print(\"Prediction on test data\")\n",
    "results = model.predict(to_test)\n",
    "print(\"test loss, test acc:\", results)"
   ]
  },
  {
   "cell_type": "code",
   "execution_count": 60,
   "metadata": {},
   "outputs": [
    {
     "name": "stdout",
     "output_type": "stream",
     "text": [
      "79\n",
      "(0.0, 11, False)\n",
      "(0.0, 11, False)\n",
      "(0.0, 11, False)\n",
      "(0.0, 2, False)\n",
      "(0.0, 2, False)\n",
      "(0.0, 2, False)\n",
      "(0.0, 2, False)\n",
      "(1.0, 11, False)\n",
      "(1.0, 11, False)\n",
      "(1.0, 0, False)\n",
      "(1.0, 2, False)\n",
      "(1.0, 2, False)\n",
      "(1.0, 2, False)\n",
      "(2.0, 11, False)\n",
      "(2.0, 11, False)\n",
      "(2.0, 11, False)\n",
      "(2.0, 2, True)\n",
      "(2.0, 2, True)\n",
      "(2.0, 2, True)\n",
      "(2.0, 2, True)\n",
      "(3.0, 11, False)\n",
      "(3.0, 11, False)\n",
      "(3.0, 11, False)\n",
      "(3.0, 11, False)\n",
      "(3.0, 11, False)\n",
      "(3.0, 11, False)\n",
      "(4.0, 11, False)\n",
      "(4.0, 11, False)\n",
      "(4.0, 11, False)\n",
      "(4.0, 8, False)\n",
      "(4.0, 7, False)\n",
      "(4.0, 7, False)\n",
      "(4.0, 7, False)\n",
      "(5.0, 11, False)\n",
      "(5.0, 11, False)\n",
      "(5.0, 8, False)\n",
      "(5.0, 7, False)\n",
      "(5.0, 7, False)\n",
      "(5.0, 7, False)\n",
      "(6.0, 11, False)\n",
      "(6.0, 11, False)\n",
      "(6.0, 10, False)\n",
      "(6.0, 7, False)\n",
      "(6.0, 7, False)\n",
      "(6.0, 7, False)\n",
      "(6.0, 7, False)\n",
      "(7.0, 11, False)\n",
      "(7.0, 11, False)\n",
      "(7.0, 8, False)\n",
      "(7.0, 7, True)\n",
      "(7.0, 8, False)\n",
      "(7.0, 7, True)\n",
      "(8.0, 11, False)\n",
      "(8.0, 11, False)\n",
      "(8.0, 11, False)\n",
      "(8.0, 10, False)\n",
      "(8.0, 8, True)\n",
      "(8.0, 8, True)\n",
      "(8.0, 8, True)\n",
      "(9.0, 11, False)\n",
      "(9.0, 11, False)\n",
      "(9.0, 10, False)\n",
      "(9.0, 11, False)\n",
      "(9.0, 11, False)\n",
      "(9.0, 11, False)\n",
      "(10.0, 11, False)\n",
      "(10.0, 11, False)\n",
      "(10.0, 11, False)\n",
      "(10.0, 10, True)\n",
      "(10.0, 11, False)\n",
      "(10.0, 11, False)\n",
      "(10.0, 11, False)\n",
      "(11.0, 11, True)\n",
      "(11.0, 11, True)\n",
      "(11.0, 11, True)\n",
      "(11.0, 11, True)\n",
      "(11.0, 11, True)\n",
      "(11.0, 11, True)\n",
      "(12.0, 11, False)\n"
     ]
    }
   ],
   "source": [
    "predictions = [p.argmax() for p in results]\n",
    "\n",
    "print(len(predictions))\n",
    "print(*[(c, a, c == a) for c, a in zip(mod_array_test, predictions)], sep=\"\\n\")"
   ]
  }
 ],
 "metadata": {
  "kernelspec": {
   "display_name": "Python 3 (ipykernel)",
   "language": "python",
   "name": "python3"
  },
  "language_info": {
   "codemirror_mode": {
    "name": "ipython",
    "version": 3
   },
   "file_extension": ".py",
   "mimetype": "text/x-python",
   "name": "python",
   "nbconvert_exporter": "python",
   "pygments_lexer": "ipython3",
   "version": "3.8.10"
  }
 },
 "nbformat": 4,
 "nbformat_minor": 4
}

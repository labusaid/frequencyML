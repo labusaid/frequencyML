{
  "nbformat": 4,
  "nbformat_minor": 0,
  "metadata": {
    "colab": {
      "name": "training_script.ipynb",
      "provenance": []
    },
    "kernelspec": {
      "name": "python3",
      "display_name": "Python 3"
    },
    "language_info": {
      "name": "python"
    }
  },
  "cells": [
    {
      "cell_type": "code",
      "source": [
        "#import block\n",
        "import tensorflow as tf\n",
        "import h5py\n",
        "import numpy as np\n",
        "import json\n",
        "import pandas as pd\n",
        "import math\n",
        "from matplotlib import pyplot as plt\n",
        "from sklearn.utils import shuffle\n",
        "from google.colab import files"
      ],
      "metadata": {
        "id": "YWHlq3wy1lgH"
      },
      "execution_count": null,
      "outputs": []
    },
    {
      "cell_type": "code",
      "source": [
        "#Function block for grabbing a section of the data\n",
        "def grabData(hf, step=1):\n",
        "  samples = hf['X'][::step]\n",
        "  modulation_classes = hf['Y'][::step]\n",
        "  \n",
        "\n",
        "  mod_array = np.zeros(len(modulation_classes))\n",
        "  i = 0\n",
        "  for x in modulation_classes:\n",
        "    mod_array[i] = np.where(x==1)[0][0]\n",
        "    i = i + 1\n",
        "\n",
        "  return samples, mod_array"
      ],
      "metadata": {
        "id": "1isaVif91qnF"
      },
      "execution_count": null,
      "outputs": []
    },
    {
      "cell_type": "code",
      "source": [
        "#function block for splitting dataset into training, validation, and testing\n",
        "#creates tf.Dataset objects\n",
        "def datasetSplit(samples, mod, training_index=.8, validation_index=.1):\n",
        "  trn_ind = math.floor(len(mod) * training_index)\n",
        "\n",
        "  training_set, training_label = samples[:trn_ind:], mod[:trn_ind:]\n",
        "  validation_set, validation_label = samples[trn_ind::], mod[trn_ind::]\n",
        "\n",
        "  tr_dataset = tf.data.Dataset.from_tensor_slices((training_set, training_label))\n",
        "  val_dataset = tf.data.Dataset.from_tensor_slices((validation_set, validation_label))\n",
        "\n",
        "  return tr_dataset, val_dataset"
      ],
      "metadata": {
        "id": "7KxAq0Ic1pvr"
      },
      "execution_count": null,
      "outputs": []
    },
    {
      "cell_type": "code",
      "source": [
        "#function for performing changes to the tf.Dataset objects like batching, shuffling, etc.\n",
        "def datasetManip(dset, batch_s=100, buf_s=1000, drop_rem=True):\n",
        "  dset_trans = dset.shuffle(buffer_size=buf_s).batch(batch_s, drop_remainder=drop_rem)\n",
        "  return dset_trans"
      ],
      "metadata": {
        "id": "B89EvwOE1o9I"
      },
      "execution_count": null,
      "outputs": []
    },
    {
      "cell_type": "code",
      "source": [
        "#function block for compiling and fitting model\n",
        "#returns the history callback of the trained model\n",
        "def trainModel(model, trn, val, num_epochs=10):\n",
        "  #model.compile(optimizer=optim, loss=loss_func, metrics=['accuracy'])\n",
        "  model.summary()\n",
        "  model_history = model.fit(trn, epochs=num_epochs, validation_data=val, verbose=1)\n",
        "  return model_history"
      ],
      "metadata": {
        "id": "o3HivoeZ1o0k"
      },
      "execution_count": null,
      "outputs": []
    },
    {
      "cell_type": "code",
      "source": [
        "#function block to plot a model's loss and accuracy through its history\n",
        "def plotHistory(hist, plot_title):\n",
        "  #summarize history for accuracy\n",
        "  plt.plot(hist.history['accuracy'])\n",
        "  plt.plot(hist.history['val_accuracy'])\n",
        "  \n",
        "  full_title = plot_title + \" accuracy\"\n",
        "  plt.title(full_title)\n",
        "  plt.ylabel('accuracy')\n",
        "  plt.xlabel('epoch')\n",
        "  plt.legend(['train', 'test'], loc='upper left')\n",
        "  \n",
        "  plt.show()\n",
        "  #summarize history for loss\n",
        "  plt.plot(hist.history['loss'])\n",
        "  plt.plot(hist.history['val_loss'])\n",
        "  \n",
        "  full_title = plot_title + \" loss\"\n",
        "  plt.title(full_title)\n",
        "  plt.ylabel('loss')\n",
        "  plt.xlabel('epoch')\n",
        "  plt.legend(['train', 'test'], loc='upper left')\n",
        "  \n",
        "  plt.show()"
      ],
      "metadata": {
        "id": "1G00IrBL3VZ0"
      },
      "execution_count": null,
      "outputs": []
    },
    {
      "cell_type": "code",
      "source": [
        "#MAIN BLOCK\n",
        "def main():\n",
        "  #if-else block for uploading hdf5 file\n",
        "  user_input = input(\"Would you like to directly upload your hdf5(1) or import it from drive(2): \")\n",
        "  if(int(user_input) == 1):\n",
        "    hdf_upload = files.upload()\n",
        "    hdf_val = list(hdf_upload.keys())\n",
        "    hdf_key = hdf_val[0]\n",
        "    \n",
        "    user_input = input(\"Is the file uploaded zipped(1)? \")\n",
        "    if(int(user_input) == 1):\n",
        "      !unzip -qq $hdf_key\n",
        "    \n",
        "    hdf_name = hdf_key.split(\".\")\n",
        "    hdf_name = hdf_name[0] + \".hdf5\"\n",
        "    \n",
        "    #For simplification, hdf5 format should be a group for the samples(X) and a group for the label(Y)\n",
        "    hdf5_file = h5py.File(hdf_name,  'r')\n",
        "    print(list(hdf5_file.keys()))\n",
        "  else:\n",
        "    file_path = input(\"Enter in the path of the file in google drive\")\n",
        "    \n",
        "    user_input = input(\"Is the file uploaded zipped(1)? \")\n",
        "    if(int(user_input) == 1):\n",
        "      !unzip -qq $file_path\n",
        "      \n",
        "      path_list = file_path.split(\"/\")\n",
        "      file_name = path_list[-1]\n",
        "      file_split = file_name.split(\".\")\n",
        "      file_raw = file_split[0]\n",
        "      \n",
        "      file_raw = file_raw + \".hdf5\"\n",
        "      hdf5_file = h5py.File(file_raw, 'r')\n",
        "    \n",
        "    hdf5_file = h5py.File(file_path, 'r')\n",
        "    print(list(hdf5_file.keys()))\n",
        "\n",
        "  #if-else block for uploading hdf5\n",
        "  user_input = input(\"For the model, is it zipped(1) on google drive? \")\n",
        "  if(int(user_input) == 1):\n",
        "    file_path = input(\"Enter the file path for the model: \")\n",
        "    !unzip -qq $file_path \n",
        "    file_split = file_path.split(\"/\")\n",
        "    file_split = file_split[-1].split(\".\")\n",
        "    model_dir = file_split[0]\n",
        "    model_dir = \"content/\" + model_dir\n",
        "    print(model_dir)\n",
        "    loaded_model = tf.keras.models.load_model(model_dir)\n",
        "  else:\n",
        "    file_path = input(\"Enter the file path for the model: \")\n",
        "    loaded_model = tf.keras.models.load_model(file_path)\n",
        "\n",
        "  fraction = 1\n",
        "  samples, modul = grabData(hdf5_file, fraction)\n",
        "  training_set, validation_set = datasetSplit(samples, modul)\n",
        "  training_set = datasetManip(training_set)\n",
        "  validation_set = datasetManip(validation_set)\n",
        "\n",
        "  model_history = trainModel(loaded_model, training_set, validation_set)\n",
        "  plotHistory(model_history, \"Trained model\")\n",
        "  loaded_model.save(\"New_trained_model\")\n",
        "\n",
        "\n",
        "  \n",
        "\n",
        "\n",
        "\n",
        "\n",
        "\n",
        "\n",
        "\n",
        "\n",
        "\n",
        "\n",
        "if __name__ == \"__main__\":\n",
        "    main()"
      ],
      "metadata": {
        "id": "bvDsBj7Z1kF2",
        "colab": {
          "resources": {
            "http://localhost:8080/nbextensions/google.colab/files.js": {
              "data": "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",
              "ok": true,
              "headers": [
                [
                  "content-type",
                  "application/javascript"
                ]
              ],
              "status": 200,
              "status_text": ""
            }
          },
          "base_uri": "https://localhost:8080/",
          "height": 1000
        },
        "outputId": "434528b8-110c-41f5-cea4-7b14f2613310"
      },
      "execution_count": null,
      "outputs": [
        {
          "name": "stdout",
          "output_type": "stream",
          "text": [
            "Would you like to directly upload your hdf5(1) or import it from drive(2): 1\n"
          ]
        },
        {
          "output_type": "display_data",
          "data": {
            "text/html": [
              "\n",
              "     <input type=\"file\" id=\"files-9ff147ef-15b5-453b-b441-6e161aab5af6\" name=\"files[]\" multiple disabled\n",
              "        style=\"border:none\" />\n",
              "     <output id=\"result-9ff147ef-15b5-453b-b441-6e161aab5af6\">\n",
              "      Upload widget is only available when the cell has been executed in the\n",
              "      current browser session. Please rerun this cell to enable.\n",
              "      </output>\n",
              "      <script src=\"/nbextensions/google.colab/files.js\"></script> "
            ],
            "text/plain": [
              "<IPython.core.display.HTML object>"
            ]
          },
          "metadata": {}
        },
        {
          "output_type": "stream",
          "name": "stdout",
          "text": [
            "Saving prediction.hdf5 to prediction.hdf5\n",
            "Is the file uploaded zipped(1)? 0\n",
            "['X', 'Y']\n",
            "For the model, is it zipped(1) on google drive? 1\n",
            "Enter the file path for the model: /content/drive/MyDrive/three_dense.zip\n",
            "content/three_dense\n",
            "Model: \"sequential_6\"\n",
            "_________________________________________________________________\n",
            " Layer (type)                Output Shape              Param #   \n",
            "=================================================================\n",
            " conv1d_38 (Conv1D)          (None, 1022, 64)          448       \n",
            "                                                                 \n",
            " max_pooling1d_38 (MaxPoolin  (None, 511, 64)          0         \n",
            " g1D)                                                            \n",
            "                                                                 \n",
            " conv1d_39 (Conv1D)          (None, 509, 64)           12352     \n",
            "                                                                 \n",
            " max_pooling1d_39 (MaxPoolin  (None, 254, 64)          0         \n",
            " g1D)                                                            \n",
            "                                                                 \n",
            " conv1d_40 (Conv1D)          (None, 252, 64)           12352     \n",
            "                                                                 \n",
            " max_pooling1d_40 (MaxPoolin  (None, 126, 64)          0         \n",
            " g1D)                                                            \n",
            "                                                                 \n",
            " conv1d_41 (Conv1D)          (None, 124, 64)           12352     \n",
            "                                                                 \n",
            " max_pooling1d_41 (MaxPoolin  (None, 62, 64)           0         \n",
            " g1D)                                                            \n",
            "                                                                 \n",
            " conv1d_42 (Conv1D)          (None, 60, 64)            12352     \n",
            "                                                                 \n",
            " max_pooling1d_42 (MaxPoolin  (None, 30, 64)           0         \n",
            " g1D)                                                            \n",
            "                                                                 \n",
            " conv1d_43 (Conv1D)          (None, 28, 64)            12352     \n",
            "                                                                 \n",
            " max_pooling1d_43 (MaxPoolin  (None, 14, 64)           0         \n",
            " g1D)                                                            \n",
            "                                                                 \n",
            " flatten_6 (Flatten)         (None, 896)               0         \n",
            "                                                                 \n",
            " dense_17 (Dense)            (None, 128)               114816    \n",
            "                                                                 \n",
            " dense_18 (Dense)            (None, 128)               16512     \n",
            "                                                                 \n",
            " dense_19 (Dense)            (None, 128)               16512     \n",
            "                                                                 \n",
            " dense_20 (Dense)            (None, 24)                3096      \n",
            "                                                                 \n",
            "=================================================================\n",
            "Total params: 213,144\n",
            "Trainable params: 213,144\n",
            "Non-trainable params: 0\n",
            "_________________________________________________________________\n",
            "Epoch 1/10\n",
            "79/79 [==============================] - 30s 358ms/step - loss: 2.1458 - accuracy: 0.3051 - val_loss: 1.3221 - val_accuracy: 0.5679\n",
            "Epoch 2/10\n",
            "79/79 [==============================] - 28s 357ms/step - loss: 1.9329 - accuracy: 0.3294 - val_loss: 1.8816 - val_accuracy: 0.4221\n",
            "Epoch 3/10\n",
            "79/79 [==============================] - 29s 373ms/step - loss: 1.9619 - accuracy: 0.3244 - val_loss: 1.6051 - val_accuracy: 0.3616\n",
            "Epoch 4/10\n",
            "79/79 [==============================] - 30s 377ms/step - loss: 2.0942 - accuracy: 0.3189 - val_loss: 2.2238 - val_accuracy: 0.2684\n",
            "Epoch 5/10\n",
            "79/79 [==============================] - 29s 373ms/step - loss: 2.0333 - accuracy: 0.3213 - val_loss: 2.2599 - val_accuracy: 0.2032\n",
            "Epoch 6/10\n",
            "79/79 [==============================] - 29s 373ms/step - loss: 2.0914 - accuracy: 0.2992 - val_loss: 1.9055 - val_accuracy: 0.3616\n",
            "Epoch 7/10\n",
            "79/79 [==============================] - 29s 361ms/step - loss: 2.1180 - accuracy: 0.2873 - val_loss: 1.4302 - val_accuracy: 0.4800\n",
            "Epoch 8/10\n",
            "79/79 [==============================] - 29s 361ms/step - loss: 2.2568 - accuracy: 0.2667 - val_loss: 2.3798 - val_accuracy: 0.2589\n",
            "Epoch 9/10\n",
            "79/79 [==============================] - 29s 365ms/step - loss: 2.0652 - accuracy: 0.3162 - val_loss: 2.1402 - val_accuracy: 0.3142\n",
            "Epoch 10/10\n",
            "79/79 [==============================] - 29s 370ms/step - loss: 1.9851 - accuracy: 0.3296 - val_loss: 1.9091 - val_accuracy: 0.4289\n"
          ]
        },
        {
          "output_type": "display_data",
          "data": {
            "image/png": "[encoded data removed]",
            "text/plain": [
              "<Figure size 432x288 with 1 Axes>"
            ]
          },
          "metadata": {
            "needs_background": "light"
          }
        },
        {
          "output_type": "display_data",
          "data": {
            "image/png": "[encoded data removed]",
            "text/plain": [
              "<Figure size 432x288 with 1 Axes>"
            ]
          },
          "metadata": {
            "needs_background": "light"
          }
        }
      ]
    }
  ]
}
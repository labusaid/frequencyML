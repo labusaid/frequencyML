{
  "nbformat": 4,
  "nbformat_minor": 0,
  "metadata": {
    "colab": {
      "name": "model_test_nb.ipynb",
      "provenance": [],
      "collapsed_sections": []
    },
    "kernelspec": {
      "display_name": "Python 3",
      "name": "python3"
    },
    "language_info": {
      "name": "python"
    }
  },
  "cells": [
    {
      "cell_type": "code",
      "metadata": {
        "id": "HUu-0Pdv60Uy"
      },
      "source": [
        "#import block\n",
        "import tensorflow as tf\n",
        "import h5py\n",
        "import numpy as np\n",
        "import json\n",
        "import pandas as pd\n",
        "import math\n",
        "from matplotlib import pyplot as plt\n",
        "from sklearn.utils import shuffle"
      ],
      "execution_count": null,
      "outputs": []
    },
    {
      "cell_type": "code",
      "metadata": {
        "id": "v1W_f4-yfWe_"
      },
      "source": [
        "#Function block for grabbing a section of the data\n",
        "def grabData(start=0, stop=0, step=8):\n",
        "  if(stop == 0):\n",
        "    samples = hdf5_file['X'][start::step]\n",
        "    modulation_classes = hdf5_file['Y'][start::step]\n",
        "    snr = hdf5_file['Z'][start::step]\n",
        "  else:\n",
        "    samples = hdf5_file['X'][start:stop:step]\n",
        "    modulation_classes = hdf5_file['Y'][start:stop:step]\n",
        "    snr = hdf5_file['Z'][start:stop:step]\n",
        "\n",
        "  mod_array = np.zeros(len(modulation_classes))\n",
        "  i = 0\n",
        "  for x in modulation_classes:\n",
        "    mod_array[i] = np.where(x==1)[0][0]\n",
        "    i = i + 1\n",
        "\n",
        "  return samples, mod_array, snr"
      ],
      "execution_count": null,
      "outputs": []
    },
    {
      "cell_type": "code",
      "metadata": {
        "id": "BNDPGgnmg3T0"
      },
      "source": [
        "#function block for shuffling dataset\n",
        "def shuffleDataset(samp, mod, snr):\n",
        "  samp, mod, snr = shuffle(samp, mod, snr, random_state=0)\n",
        "  return samp, mod, snr"
      ],
      "execution_count": null,
      "outputs": []
    },
    {
      "cell_type": "code",
      "metadata": {
        "id": "HQBo8yoCg5eH"
      },
      "source": [
        "#function block for splitting dataset into training, validation, and testing\n",
        "#creates tf.Dataset objects\n",
        "def datasetSplit(samples, mod, snr, training_index=.8, validation_index=.1):\n",
        "  trn_ind = math.floor(len(mod) * training_index)\n",
        "  val_ind = math.floor(len(mod) * validation_index)\n",
        "\n",
        "  training_set, training_label, training_snr = samples[:trn_ind:], mod[:trn_ind:], snr[:trn_ind:]\n",
        "  validation_set, validation_label, validation_snr = samples[trn_ind:trn_ind+val_ind:], mod[trn_ind:trn_ind+val_ind:], snr[trn_ind:trn_ind+val_ind:]\n",
        "  test_set, test_label, test_snr = samples[trn_ind+val_ind::], mod[trn_ind+val_ind::], snr[trn_ind+val_ind::]\n",
        "\n",
        "  tr_dataset = tf.data.Dataset.from_tensor_slices((training_set, training_label))\n",
        "  val_dataset = tf.data.Dataset.from_tensor_slices((validation_set, validation_label))\n",
        "  test_dataset = tf.data.Dataset.from_tensor_slices((test_set, test_label))\n",
        "\n",
        "  return tr_dataset, val_dataset, test_dataset"
      ],
      "execution_count": null,
      "outputs": []
    },
    {
      "cell_type": "code",
      "metadata": {
        "id": "5sJA5g7vg6PT"
      },
      "source": [
        "#function for performing changes to the tf.Dataset objects like batching, shuffling, etc.\n",
        "def datasetManip(dset, batch_s=100, buf_s=1000, drop_rem=True):\n",
        "  dset_trans = dset.shuffle(buffer_size=buf_size).batch(batch_s, drop_remainder=drop_rem)\n",
        "  return dset_trans"
      ],
      "execution_count": null,
      "outputs": []
    },
    {
      "cell_type": "code",
      "metadata": {
        "id": "9bc1ncpKg8SP"
      },
      "source": [
        "#function block for compiling and fitting model\n",
        "#returns the history callback of the trained model\n",
        "def trainModel(model, loss_func, trn, val, optim='Adam', num_epochs=10):\n",
        "  model.compile(optimizer=optim, loss=loss_func, metrics=['accuracy'])\n",
        "  model.summary()\n",
        "  model_history = model.fit(trn, epochs=num_epochs, validation_data=val, verbose=1)\n",
        "  return model_history"
      ],
      "execution_count": null,
      "outputs": []
    },
    {
      "cell_type": "code",
      "metadata": {
        "id": "iW3Rfv2DkfNU"
      },
      "source": [
        "#function block to plot a model's loss and accuracy through its history\n",
        "def plotHistory(hist, plot_title):\n",
        "  #summarize history for accuracy\n",
        "  plt.plot(hist.history['accuracy'])\n",
        "  plt.plot(hist.history['val_accuracy'])\n",
        "  \n",
        "  full_title = plot_title + \" accuracy\"\n",
        "  plt.title(full_title)\n",
        "  plt.ylabel('accuracy')\n",
        "  plt.xlabel('epoch')\n",
        "  plt.legend(['train', 'test'], loc='upper left')\n",
        "  \n",
        "  plt.show()\n",
        "  #summarize history for loss\n",
        "  plt.plot(hist.history['loss'])\n",
        "  plt.plot(hist.history['val_loss'])\n",
        "  \n",
        "  full_title = plot_title + \" loss\"\n",
        "  plt.title(full_title)\n",
        "  plt.ylabel('loss')\n",
        "  plt.xlabel('epoch')\n",
        "  plt.legend(['train', 'test'], loc='upper left')\n",
        "  \n",
        "  plt.show()"
      ],
      "execution_count": 15,
      "outputs": []
    },
    {
      "cell_type": "code",
      "metadata": {
        "id": "0QKEpbSLkfEe"
      },
      "source": [
        "#function block for using model for predictions"
      ],
      "execution_count": null,
      "outputs": []
    },
    {
      "cell_type": "code",
      "metadata": {
        "id": "gKHAVYZ4kZLT"
      },
      "source": [
        "#block for writing out models to be tested\n",
        "\n",
        "#write out models to be tested\n",
        "five_layers = tf.keras.models.Sequential([\n",
        "      tf.keras.layers.Conv1D(64, 3, activation='relu', \n",
        "                  input_shape=(img_width, img_height)),\n",
        "      tf.keras.layers.MaxPooling1D(2, 2),\n",
        "      tf.keras.layers.Conv1D(64, 3, activation='relu'),\n",
        "      tf.keras.layers.MaxPooling1D(2),\n",
        "      tf.keras.layers.Conv1D(64, 3, activation='relu'),\n",
        "      tf.keras.layers.MaxPooling1D(2),\n",
        "      tf.keras.layers.Conv1D(64, 3, activation='relu'),\n",
        "      tf.keras.layers.MaxPooling1D(2),\n",
        "      tf.keras.layers.Conv1D(64, 3, activation='relu'),\n",
        "      tf.keras.layers.MaxPooling1D(2),\n",
        "      tf.keras.layers.Flatten(),\n",
        "      tf.keras.layers.Dense(128, activation=tf.nn.selu),\n",
        "      tf.keras.layers.Dense(128, activation=tf.nn.selu),\n",
        "      tf.keras.layers.Dense(24, activation=tf.nn.softmax)\n",
        "    ])\n",
        "\n",
        "six_layers = tf.keras.models.Sequential([\n",
        "      tf.keras.layers.Conv1D(64, 3, activation='relu', \n",
        "                  input_shape=(img_width, img_height)),\n",
        "      tf.keras.layers.MaxPooling1D(2, 2),\n",
        "      tf.keras.layers.Conv1D(64, 3, activation='relu'),\n",
        "      tf.keras.layers.MaxPooling1D(2),\n",
        "      tf.keras.layers.Conv1D(64, 3, activation='relu'),\n",
        "      tf.keras.layers.MaxPooling1D(2),\n",
        "      tf.keras.layers.Conv1D(64, 3, activation='relu'),\n",
        "      tf.keras.layers.MaxPooling1D(2),\n",
        "      tf.keras.layers.Conv1D(64, 3, activation='relu'),\n",
        "      tf.keras.layers.MaxPooling1D(2),\n",
        "      tf.keras.layers.Conv1D(64, 3, activation='relu'),\n",
        "      tf.keras.layers.MaxPooling1D(2),\n",
        "      tf.keras.layers.Flatten(),\n",
        "      tf.keras.layers.Dense(128, activation=tf.nn.selu),\n",
        "      tf.keras.layers.Dense(128, activation=tf.nn.selu),\n",
        "      tf.keras.layers.Dense(24, activation=tf.nn.softmax)\n",
        "    ])\n",
        "\n",
        "seven_layers = tf.keras.models.Sequential([\n",
        "      tf.keras.layers.Conv1D(64, 3, activation='relu', \n",
        "                  input_shape=(img_width, img_height)),\n",
        "      tf.keras.layers.MaxPooling1D(2, 2),\n",
        "      tf.keras.layers.Conv1D(64, 3, activation='relu'),\n",
        "      tf.keras.layers.MaxPooling1D(2),\n",
        "      tf.keras.layers.Conv1D(64, 3, activation='relu'),\n",
        "      tf.keras.layers.MaxPooling1D(2),\n",
        "      tf.keras.layers.Conv1D(64, 3, activation='relu'),\n",
        "      tf.keras.layers.MaxPooling1D(2),\n",
        "      tf.keras.layers.Conv1D(64, 3, activation='relu'),\n",
        "      tf.keras.layers.MaxPooling1D(2),\n",
        "      tf.keras.layers.Conv1D(64, 3, activation='relu'),\n",
        "      tf.keras.layers.MaxPooling1D(2),\n",
        "      tf.keras.layers.Conv1D(64, 3, activation='relu'),\n",
        "      tf.keras.layers.MaxPooling1D(2),\n",
        "      tf.keras.layers.Flatten(),\n",
        "      tf.keras.layers.Dense(128, activation=tf.nn.selu),\n",
        "      tf.keras.layers.Dense(128, activation=tf.nn.selu),\n",
        "      tf.keras.layers.Dense(24, activation=tf.nn.softmax)\n",
        "    ])\n",
        "\n",
        "eight_layers = tf.keras.models.Sequential([\n",
        "      tf.keras.layers.Conv1D(64, 3, activation='relu', \n",
        "                  input_shape=(img_width, img_height)),\n",
        "      tf.keras.layers.MaxPooling1D(2, 2),\n",
        "      tf.keras.layers.Conv1D(64, 3, activation='relu'),\n",
        "      tf.keras.layers.MaxPooling1D(2),\n",
        "      tf.keras.layers.Conv1D(64, 3, activation='relu'),\n",
        "      tf.keras.layers.MaxPooling1D(2),\n",
        "      tf.keras.layers.Conv1D(64, 3, activation='relu'),\n",
        "      tf.keras.layers.MaxPooling1D(2),\n",
        "      tf.keras.layers.Conv1D(64, 3, activation='relu'),\n",
        "      tf.keras.layers.MaxPooling1D(2),\n",
        "      tf.keras.layers.Conv1D(64, 3, activation='relu'),\n",
        "      tf.keras.layers.MaxPooling1D(2),\n",
        "      tf.keras.layers.Conv1D(64, 3, activation='relu'),\n",
        "      tf.keras.layers.MaxPooling1D(2),\n",
        "      tf.keras.layers.Conv1D(64, 3, activation='relu'),\n",
        "      tf.keras.layers.MaxPooling1D(2),\n",
        "      tf.keras.layers.Flatten(),\n",
        "      tf.keras.layers.Dense(128, activation=tf.nn.selu),\n",
        "      tf.keras.layers.Dense(128, activation=tf.nn.selu),\n",
        "      tf.keras.layers.Dense(24, activation=tf.nn.softmax)\n",
        "    ])\n",
        "\n",
        "#put the model objects in here\n",
        "model_list = [five_layers, six_layers, seven_layers, eight_layers]\n",
        "\n",
        "#put the model names in here\n",
        "model_names = [\"five_layers\", \"six_layers\", \"seven_layers\", \"eight_layers\"]"
      ],
      "execution_count": 10,
      "outputs": []
    },
    {
      "cell_type": "code",
      "metadata": {
        "id": "1nojWwHYgdh1"
      },
      "source": [
        "#Main block for calling functions\n",
        "##code block for loading in DeepSig data from hdf5 file\n",
        "\n",
        "# Open the dataset\n",
        "hdf5_file = h5py.File(\"/content/content/DeepSig_shuffled/DeepSig_XYZ_OSC.0001_1024_Shuffled.hdf5\",  'r')\n",
        "# Load the modulation classes. You can also copy and paste the content of classes-fixed.txt.\n",
        "modulation_classes = json.load(open(\"/content/content/DeepSig_shuffled/classes-fixed.json\", 'r'))\n",
        "#List groups of the hdf5 file\n",
        "list(hdf5_file.keys())\n",
        "#DeepSig image input shape\n",
        "img_width, img_height, img_channels = (1024, 2, 1)"
      ],
      "execution_count": 9,
      "outputs": []
    },
    {
      "cell_type": "code",
      "metadata": {
        "id": "SSNNSNa9Arra"
      },
      "source": [
        "#Grabbing data and creating datasets\n",
        "\n",
        "#variable block\n",
        "start = 0\n",
        "stop = 0\n",
        "fraction = 8 #takes 1/fraction of the original dataset\n",
        "train_split = .8\n",
        "val_split = .1\n",
        "buf_size = 10000\n",
        "batch_size = 1000\n",
        "drop_rem = True\n",
        "\n",
        "#dataset split creation block\n",
        "samples, mod, snr = grabData(start, stop, fraction)\n",
        "samples, mod, snr = shuffleDataset(samples, mod, snr)\n",
        "train_ds, val_ds, test_ds = datasetSplit(samples, mod, snr, train_split, val_split)\n",
        "train_ds = datasetManip(train_ds, batch_size, buf_size, drop_rem)\n",
        "val_ds = datasetManip(val_ds, batch_size, buf_size, drop_rem)\n",
        "test_ds = datasetManip(test_ds, batch_size, buf_size, drop_rem)"
      ],
      "execution_count": 12,
      "outputs": []
    },
    {
      "cell_type": "code",
      "metadata": {
        "id": "hDVlfl3YAuzb",
        "colab": {
          "base_uri": "https://localhost:8080/",
          "height": 1000
        },
        "outputId": "48f907e1-82c3-49c3-a4f8-3300ef58d234"
      },
      "source": [
        "#Setting model variables, compiling/training models, and graphing metrics\n",
        "\n",
        "#variable block\n",
        "optimizer = 'Adam'\n",
        "loss_function = 'sparse_categorical_crossentropy'\n",
        "number_of_epochs = 10\n",
        "\n",
        "model_histories = []\n",
        "ind = 0;\n",
        "for x in model_list:\n",
        "  current_history = trainModel(x, loss_function, train_ds, val_ds, optimizer, number_of_epochs)\n",
        "  model_histories.append(current_history)\n",
        "  plotHistory(current_history, model_names[ind])\n",
        "  ind = ind + 1"
      ],
      "execution_count": null,
      "outputs": [
        {
          "output_type": "stream",
          "name": "stdout",
          "text": [
            "Model: \"sequential\"\n",
            "_________________________________________________________________\n",
            " Layer (type)                Output Shape              Param #   \n",
            "=================================================================\n",
            " conv1d (Conv1D)             (None, 1022, 64)          448       \n",
            "                                                                 \n",
            " max_pooling1d (MaxPooling1D  (None, 511, 64)          0         \n",
            " )                                                               \n",
            "                                                                 \n",
            " conv1d_1 (Conv1D)           (None, 509, 64)           12352     \n",
            "                                                                 \n",
            " max_pooling1d_1 (MaxPooling  (None, 254, 64)          0         \n",
            " 1D)                                                             \n",
            "                                                                 \n",
            " conv1d_2 (Conv1D)           (None, 252, 64)           12352     \n",
            "                                                                 \n",
            " max_pooling1d_2 (MaxPooling  (None, 126, 64)          0         \n",
            " 1D)                                                             \n",
            "                                                                 \n",
            " conv1d_3 (Conv1D)           (None, 124, 64)           12352     \n",
            "                                                                 \n",
            " max_pooling1d_3 (MaxPooling  (None, 62, 64)           0         \n",
            " 1D)                                                             \n",
            "                                                                 \n",
            " conv1d_4 (Conv1D)           (None, 60, 64)            12352     \n",
            "                                                                 \n",
            " max_pooling1d_4 (MaxPooling  (None, 30, 64)           0         \n",
            " 1D)                                                             \n",
            "                                                                 \n",
            " flatten (Flatten)           (None, 1920)              0         \n",
            "                                                                 \n",
            " dense (Dense)               (None, 128)               245888    \n",
            "                                                                 \n",
            " dense_1 (Dense)             (None, 128)               16512     \n",
            "                                                                 \n",
            " dense_2 (Dense)             (None, 24)                3096      \n",
            "                                                                 \n",
            "=================================================================\n",
            "Total params: 315,352\n",
            "Trainable params: 315,352\n",
            "Non-trainable params: 0\n",
            "_________________________________________________________________\n",
            "Epoch 1/10\n",
            "255/255 [==============================] - 920s 4s/step - loss: 1.6584 - accuracy: 0.4234 - val_loss: 1.6710 - val_accuracy: 0.4138\n",
            "Epoch 2/10\n",
            "255/255 [==============================] - 922s 4s/step - loss: 1.5943 - accuracy: 0.4448 - val_loss: 1.7036 - val_accuracy: 0.4016\n",
            "Epoch 3/10\n",
            "255/255 [==============================] - 932s 4s/step - loss: 1.5787 - accuracy: 0.4538 - val_loss: 1.6619 - val_accuracy: 0.4207\n",
            "Epoch 4/10\n",
            "255/255 [==============================] - 923s 4s/step - loss: 1.5631 - accuracy: 0.4594 - val_loss: 1.6753 - val_accuracy: 0.4183\n",
            "Epoch 5/10\n",
            "255/255 [==============================] - 921s 4s/step - loss: 1.5523 - accuracy: 0.4662 - val_loss: 1.6537 - val_accuracy: 0.4280\n",
            "Epoch 6/10\n",
            "255/255 [==============================] - 916s 4s/step - loss: 1.5384 - accuracy: 0.4721 - val_loss: 1.6547 - val_accuracy: 0.4297\n",
            "Epoch 7/10\n",
            "255/255 [==============================] - 940s 4s/step - loss: 1.5212 - accuracy: 0.4791 - val_loss: 1.6429 - val_accuracy: 0.4325\n",
            "Epoch 8/10\n",
            "255/255 [==============================] - 945s 4s/step - loss: 1.5086 - accuracy: 0.4835 - val_loss: 1.6474 - val_accuracy: 0.4384\n",
            "Epoch 9/10\n",
            "255/255 [==============================] - 946s 4s/step - loss: 1.4985 - accuracy: 0.4885 - val_loss: 1.6397 - val_accuracy: 0.4391\n",
            "Epoch 10/10\n",
            "255/255 [==============================] - 949s 4s/step - loss: 1.4809 - accuracy: 0.4947 - val_loss: 1.6401 - val_accuracy: 0.4420\n"
          ]
        },
        {
          "output_type": "display_data",
          "data": {
            "image/png": "[encoded data removed]",
            "text/plain": [
              "<Figure size 432x288 with 1 Axes>"
            ]
          },
          "metadata": {
            "needs_background": "light"
          }
        },
        {
          "output_type": "display_data",
          "data": {
            "image/png": "[encoded data removed]",
            "text/plain": [
              "<Figure size 432x288 with 1 Axes>"
            ]
          },
          "metadata": {
            "needs_background": "light"
          }
        },
        {
          "output_type": "stream",
          "name": "stdout",
          "text": [
            "Model: \"sequential_1\"\n",
            "_________________________________________________________________\n",
            " Layer (type)                Output Shape              Param #   \n",
            "=================================================================\n",
            " conv1d_5 (Conv1D)           (None, 1022, 64)          448       \n",
            "                                                                 \n",
            " max_pooling1d_5 (MaxPooling  (None, 511, 64)          0         \n",
            " 1D)                                                             \n",
            "                                                                 \n",
            " conv1d_6 (Conv1D)           (None, 509, 64)           12352     \n",
            "                                                                 \n",
            " max_pooling1d_6 (MaxPooling  (None, 254, 64)          0         \n",
            " 1D)                                                             \n",
            "                                                                 \n",
            " conv1d_7 (Conv1D)           (None, 252, 64)           12352     \n",
            "                                                                 \n",
            " max_pooling1d_7 (MaxPooling  (None, 126, 64)          0         \n",
            " 1D)                                                             \n",
            "                                                                 \n",
            " conv1d_8 (Conv1D)           (None, 124, 64)           12352     \n",
            "                                                                 \n",
            " max_pooling1d_8 (MaxPooling  (None, 62, 64)           0         \n",
            " 1D)                                                             \n",
            "                                                                 \n",
            " conv1d_9 (Conv1D)           (None, 60, 64)            12352     \n",
            "                                                                 \n",
            " max_pooling1d_9 (MaxPooling  (None, 30, 64)           0         \n",
            " 1D)                                                             \n",
            "                                                                 \n",
            " conv1d_10 (Conv1D)          (None, 28, 64)            12352     \n",
            "                                                                 \n",
            " max_pooling1d_10 (MaxPoolin  (None, 14, 64)           0         \n",
            " g1D)                                                            \n",
            "                                                                 \n",
            " flatten_1 (Flatten)         (None, 896)               0         \n",
            "                                                                 \n",
            " dense_3 (Dense)             (None, 128)               114816    \n",
            "                                                                 \n",
            " dense_4 (Dense)             (None, 128)               16512     \n",
            "                                                                 \n",
            " dense_5 (Dense)             (None, 24)                3096      \n",
            "                                                                 \n",
            "=================================================================\n",
            "Total params: 196,632\n",
            "Trainable params: 196,632\n",
            "Non-trainable params: 0\n",
            "_________________________________________________________________\n",
            "Epoch 1/10\n",
            "255/255 [==============================] - 1031s 4s/step - loss: 2.2437 - accuracy: 0.2443 - val_loss: 1.8774 - val_accuracy: 0.3300\n",
            "Epoch 2/10\n",
            "255/255 [==============================] - 1024s 4s/step - loss: 1.8444 - accuracy: 0.3393 - val_loss: 1.8078 - val_accuracy: 0.3467\n",
            "Epoch 3/10\n",
            "255/255 [==============================] - 997s 4s/step - loss: 1.7844 - accuracy: 0.3597 - val_loss: 1.7535 - val_accuracy: 0.3723\n",
            "Epoch 4/10\n",
            "255/255 [==============================] - 971s 4s/step - loss: 1.7562 - accuracy: 0.3697 - val_loss: 1.7255 - val_accuracy: 0.3774\n",
            "Epoch 5/10\n",
            "255/255 [==============================] - 969s 4s/step - loss: 1.7238 - accuracy: 0.3799 - val_loss: 1.8111 - val_accuracy: 0.3529\n",
            "Epoch 6/10\n",
            "255/255 [==============================] - 943s 4s/step - loss: 1.7068 - accuracy: 0.3871 - val_loss: 1.6875 - val_accuracy: 0.3896\n",
            "Epoch 7/10\n",
            "255/255 [==============================] - 946s 4s/step - loss: 1.6901 - accuracy: 0.3919 - val_loss: 1.6931 - val_accuracy: 0.3858\n",
            "Epoch 8/10\n",
            "255/255 [==============================] - 944s 4s/step - loss: 1.6744 - accuracy: 0.3972 - val_loss: 1.6707 - val_accuracy: 0.3945\n",
            "Epoch 9/10\n",
            "255/255 [==============================] - 940s 4s/step - loss: 1.6619 - accuracy: 0.4018 - val_loss: 1.6712 - val_accuracy: 0.3947\n",
            "Epoch 10/10\n",
            "255/255 [==============================] - 941s 4s/step - loss: 1.6514 - accuracy: 0.4055 - val_loss: 1.6695 - val_accuracy: 0.4002\n"
          ]
        },
        {
          "output_type": "display_data",
          "data": {
            "image/png": "[encoded data removed]",
            "text/plain": [
              "<Figure size 432x288 with 1 Axes>"
            ]
          },
          "metadata": {
            "needs_background": "light"
          }
        },
        {
          "output_type": "display_data",
          "data": {
            "image/png": "[encoded data removed]",
            "text/plain": [
              "<Figure size 432x288 with 1 Axes>"
            ]
          },
          "metadata": {
            "needs_background": "light"
          }
        },
        {
          "output_type": "stream",
          "name": "stdout",
          "text": [
            "Model: \"sequential_2\"\n",
            "_________________________________________________________________\n",
            " Layer (type)                Output Shape              Param #   \n",
            "=================================================================\n",
            " conv1d_11 (Conv1D)          (None, 1022, 64)          448       \n",
            "                                                                 \n",
            " max_pooling1d_11 (MaxPoolin  (None, 511, 64)          0         \n",
            " g1D)                                                            \n",
            "                                                                 \n",
            " conv1d_12 (Conv1D)          (None, 509, 64)           12352     \n",
            "                                                                 \n",
            " max_pooling1d_12 (MaxPoolin  (None, 254, 64)          0         \n",
            " g1D)                                                            \n",
            "                                                                 \n",
            " conv1d_13 (Conv1D)          (None, 252, 64)           12352     \n",
            "                                                                 \n",
            " max_pooling1d_13 (MaxPoolin  (None, 126, 64)          0         \n",
            " g1D)                                                            \n",
            "                                                                 \n",
            " conv1d_14 (Conv1D)          (None, 124, 64)           12352     \n",
            "                                                                 \n",
            " max_pooling1d_14 (MaxPoolin  (None, 62, 64)           0         \n",
            " g1D)                                                            \n",
            "                                                                 \n",
            " conv1d_15 (Conv1D)          (None, 60, 64)            12352     \n",
            "                                                                 \n",
            " max_pooling1d_15 (MaxPoolin  (None, 30, 64)           0         \n",
            " g1D)                                                            \n",
            "                                                                 \n",
            " conv1d_16 (Conv1D)          (None, 28, 64)            12352     \n",
            "                                                                 \n",
            " max_pooling1d_16 (MaxPoolin  (None, 14, 64)           0         \n",
            " g1D)                                                            \n",
            "                                                                 \n",
            " conv1d_17 (Conv1D)          (None, 12, 64)            12352     \n",
            "                                                                 \n",
            " max_pooling1d_17 (MaxPoolin  (None, 6, 64)            0         \n",
            " g1D)                                                            \n",
            "                                                                 \n",
            " flatten_2 (Flatten)         (None, 384)               0         \n",
            "                                                                 \n",
            " dense_6 (Dense)             (None, 128)               49280     \n",
            "                                                                 \n",
            " dense_7 (Dense)             (None, 128)               16512     \n",
            "                                                                 \n",
            " dense_8 (Dense)             (None, 24)                3096      \n",
            "                                                                 \n",
            "=================================================================\n",
            "Total params: 143,448\n",
            "Trainable params: 143,448\n",
            "Non-trainable params: 0\n",
            "_________________________________________________________________\n",
            "Epoch 1/10\n",
            " 47/255 [====>.........................] - ETA: 12:50 - loss: 2.8154 - accuracy: 0.1135"
          ]
        }
      ]
    },
    {
      "cell_type": "code",
      "metadata": {
        "colab": {
          "background_save": true,
          "base_uri": "https://localhost:8080/"
        },
        "id": "vD48HmpRgp6W",
        "outputId": "6e077c53-b387-4afd-a64a-e89a1ba524f0"
      },
      "source": [
        "! unzip /content/drive/MyDrive/DS_shuffled.zip -d /content/"
      ],
      "execution_count": null,
      "outputs": [
        {
          "name": "stdout",
          "output_type": "stream",
          "text": [
            "Archive:  /content/drive/MyDrive/DS_shuffled.zip\n",
            "   creating: /content/content/DeepSig_shuffled/\n",
            "  inflating: /content/content/DeepSig_shuffled/datasets.desktop  \n",
            "  inflating: /content/content/DeepSig_shuffled/DeepSig_XYZ_OSC.0001_1024_Shuffled.hdf5  \n",
            "  inflating: /content/content/DeepSig_shuffled/classes-fixed.json  \n",
            "  inflating: /content/content/DeepSig_shuffled/LICENSE.TXT  \n",
            "  inflating: /content/content/DeepSig_shuffled/classes.txt  \n",
            "  inflating: /content/content/DeepSig_shuffled/classes-fixed.txt  \n"
          ]
        }
      ]
    }
  ]
}
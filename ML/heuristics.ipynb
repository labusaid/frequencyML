{
 "cells": [
  {
   "cell_type": "code",
   "execution_count": 1,
   "id": "aea97718",
   "metadata": {},
   "outputs": [
    {
     "name": "stderr",
     "output_type": "stream",
     "text": [
      "2021-11-16 16:50:45.408108: W tensorflow/stream_executor/platform/default/dso_loader.cc:64] Could not load dynamic library 'libcudart.so.11.0'; dlerror: libcudart.so.11.0: cannot open shared object file: No such file or directory\n",
      "2021-11-16 16:50:45.408132: I tensorflow/stream_executor/cuda/cudart_stub.cc:29] Ignore above cudart dlerror if you do not have a GPU set up on your machine.\n"
     ]
    }
   ],
   "source": [
    "#import block\n",
    "import tensorflow as tf\n",
    "from tensorflow import keras\n",
    "import h5py\n",
    "import numpy as np\n",
    "import json\n",
    "import pandas as pd\n",
    "from matplotlib import pyplot as plt"
   ]
  },
  {
   "cell_type": "code",
   "execution_count": 2,
   "id": "71b4a719",
   "metadata": {},
   "outputs": [],
   "source": [
    "#Function block for grabbing a section of the data\n",
    "def grabData(start=0, stop=0, step=8):\n",
    "  if(stop == 0):\n",
    "    samples = hdf5_file['X'][start::step]\n",
    "    modulation_classes = hdf5_file['Y'][start::step]\n",
    "    snr = hdf5_file['Z'][start::step]\n",
    "  else:\n",
    "    samples = hdf5_file['X'][start:stop:step]\n",
    "    modulation_classes = hdf5_file['Y'][start:stop:step]\n",
    "    snr = hdf5_file['Z'][start:stop:step]\n",
    "\n",
    "  mod_array = np.zeros(len(modulation_classes))\n",
    "  i = 0\n",
    "  for x in modulation_classes:\n",
    "    mod_array[i] = np.where(x==1)[0][0]\n",
    "    i = i + 1\n",
    "\n",
    "  return samples, mod_array, snr"
   ]
  },
  {
   "cell_type": "code",
   "execution_count": 3,
   "id": "1314cd2f",
   "metadata": {},
   "outputs": [],
   "source": [
    "##code block for loading in DeepSig data from hdf5 file\n",
    "\n",
    "# Open the dataset\n",
    "# hdf5_file = h5py.File(\"/content/content/DeepSig_shuffled/DeepSig_XYZ_OSC.0001_1024_Shuffled.hdf5\",  'r')\n",
    "hdf5_file = h5py.File(\"../dataset/GOLD_XYZ_OSC.0001_1024.hdf5\",  'r')\n",
    "\n",
    "# Load the modulation classes. You can also copy and paste the content of classes-fixed.txt.\n",
    "# modulation_classes = json.load(open(\"/content/content/DeepSig_shuffled/classes-fixed.json\", 'r'))\n",
    "modulation_classes = json.load(open(\"../dataset/classes-fixed.json\", 'r'))\n",
    "\n",
    "#List groups of the hdf5 file\n",
    "list(hdf5_file.keys())\n",
    "#DeepSig image input shape\n",
    "img_width, img_height, img_channels = (1024, 2, 1)"
   ]
  },
  {
   "cell_type": "code",
   "execution_count": 4,
   "id": "031c3956",
   "metadata": {},
   "outputs": [
    {
     "name": "stdout",
     "output_type": "stream",
     "text": [
      "<HDF5 file \"GOLD_XYZ_OSC.0001_1024.hdf5\" (mode r)>\n"
     ]
    }
   ],
   "source": [
    "print(hdf5_file)"
   ]
  },
  {
   "cell_type": "code",
   "execution_count": 5,
   "id": "902eb7f8",
   "metadata": {},
   "outputs": [
    {
     "name": "stdout",
     "output_type": "stream",
     "text": [
      "{'OOK': 0.0, '4ASK': 1.0, '8ASK': 2.0, 'BPSK': 3.0, 'QPSK': 4.0, '8PSK': 5.0, '16PSK': 6.0, '32PSK': 7.0, '16APSK': 8.0, '32APSK': 9.0, '64APSK': 10.0, '128APSK': 11.0, '16QAM': 12.0, '32QAM': 13.0, '64QAM': 14.0, '128QAM': 15.0, '256QAM': 16.0, 'AM-SSB-WC': 17.0, 'AM-SSB-SC': 18.0, 'AM-DSB-WC': 19.0, 'AM-DSB-SC': 20.0, 'FM': 21.0, 'GMSK': 22.0, 'OQPSK': 23.0}\n"
     ]
    }
   ],
   "source": [
    "# creates subset of source for mod_scheme\n",
    "modulation_map = {k: float(v) for v, k in enumerate(modulation_classes)}\n",
    "print(modulation_map)\n",
    "def createModulationList(source, mod_scheme):\n",
    "    mod_num = modulation_map[mod_scheme]\n",
    "    return [s[0] for s in source if (s[1] == mod_num)]\n",
    "    "
   ]
  },
  {
   "cell_type": "code",
   "execution_count": 6,
   "id": "19463788",
   "metadata": {},
   "outputs": [
    {
     "name": "stdout",
     "output_type": "stream",
     "text": [
      "3328\n",
      "[[ 0.0420274   0.23476323]\n",
      " [-0.2728826   0.40513492]\n",
      " [-0.26707262  0.22749889]\n",
      " ...\n",
      " [-0.7055947  -0.28693035]\n",
      " [-0.41157472  0.66826206]\n",
      " [ 0.06487698  0.6358149 ]]\n"
     ]
    }
   ],
   "source": [
    "# define data to use for testing and format for easy seperation by modulation scheme\n",
    "test_data = grabData(step=32)\n",
    "test_data = tuple(zip(test_data[0], test_data[1]))\n",
    "\n",
    "test_OOK = createModulationList(test_data, 'OOK')\n",
    "print(len(test_OOK))\n",
    "print(test_OOK[0])"
   ]
  },
  {
   "cell_type": "code",
   "execution_count": 7,
   "id": "93f14377",
   "metadata": {},
   "outputs": [],
   "source": [
    "# test model accuracy with each modulation scheme\n",
    "def testAccuracy(model, test_data):\n",
    "    for m in modulation_map.items():\n",
    "        test_mod = createModulationList(test_data, m[0])\n",
    "        test_mod = np.array(test_mod)\n",
    "        results = model.predict(test_mod)\n",
    "        predictions = [p.argmax() for p in results]\n",
    "        print(f'{m[0]} accuracy {\"{:.2%}\".format(predictions.count(m[1])/len(results))}')"
   ]
  },
  {
   "cell_type": "code",
   "execution_count": 8,
   "id": "47b63ca4",
   "metadata": {
    "scrolled": false
   },
   "outputs": [
    {
     "name": "stdout",
     "output_type": "stream",
     "text": [
      "\n",
      "testing five_layers:\n"
     ]
    },
    {
     "name": "stderr",
     "output_type": "stream",
     "text": [
      "2021-11-16 16:50:47.246098: W tensorflow/stream_executor/platform/default/dso_loader.cc:64] Could not load dynamic library 'libcuda.so.1'; dlerror: libcuda.so.1: cannot open shared object file: No such file or directory\n",
      "2021-11-16 16:50:47.246119: W tensorflow/stream_executor/cuda/cuda_driver.cc:269] failed call to cuInit: UNKNOWN ERROR (303)\n",
      "2021-11-16 16:50:47.246134: I tensorflow/stream_executor/cuda/cuda_diagnostics.cc:156] kernel driver does not appear to be running on this host (bolt): /proc/driver/nvidia/version does not exist\n",
      "2021-11-16 16:50:47.246268: I tensorflow/core/platform/cpu_feature_guard.cc:142] This TensorFlow binary is optimized with oneAPI Deep Neural Network Library (oneDNN) to use the following CPU instructions in performance-critical operations:  AVX2 FMA\n",
      "To enable them in other operations, rebuild TensorFlow with the appropriate compiler flags.\n",
      "2021-11-16 16:50:47.653174: I tensorflow/compiler/mlir/mlir_graph_optimization_pass.cc:185] None of the MLIR Optimization Passes are enabled (registered 2)\n"
     ]
    },
    {
     "name": "stdout",
     "output_type": "stream",
     "text": [
      "OOK accuracy 71.72%\n",
      "4ASK accuracy 59.25%\n",
      "8ASK accuracy 72.36%\n",
      "BPSK accuracy 76.05%\n",
      "QPSK accuracy 71.97%\n",
      "8PSK accuracy 69.68%\n",
      "16PSK accuracy 0.00%\n",
      "32PSK accuracy 0.00%\n",
      "16APSK accuracy 0.00%\n",
      "32APSK accuracy 0.00%\n",
      "64APSK accuracy 0.00%\n",
      "128APSK accuracy 0.00%\n",
      "16QAM accuracy 3.88%\n",
      "32QAM accuracy 22.51%\n",
      "64QAM accuracy 29.66%\n",
      "128QAM accuracy 20.52%\n",
      "256QAM accuracy 4.24%\n",
      "AM-SSB-WC accuracy 17.52%\n",
      "AM-SSB-SC accuracy 69.83%\n",
      "AM-DSB-WC accuracy 73.35%\n",
      "AM-DSB-SC accuracy 5.29%\n",
      "FM accuracy 79.87%\n",
      "GMSK accuracy 66.23%\n",
      "OQPSK accuracy 62.74%\n",
      "\n",
      "testing six_layers:\n",
      "OOK accuracy 72.54%\n",
      "4ASK accuracy 44.29%\n",
      "8ASK accuracy 78.55%\n",
      "BPSK accuracy 77.58%\n",
      "QPSK accuracy 57.15%\n",
      "8PSK accuracy 76.68%\n",
      "16PSK accuracy 0.00%\n",
      "32PSK accuracy 0.00%\n",
      "16APSK accuracy 0.00%\n",
      "32APSK accuracy 0.00%\n",
      "64APSK accuracy 0.00%\n",
      "128APSK accuracy 0.00%\n",
      "16QAM accuracy 0.48%\n",
      "32QAM accuracy 2.91%\n",
      "64QAM accuracy 37.35%\n",
      "128QAM accuracy 32.72%\n",
      "256QAM accuracy 0.54%\n",
      "AM-SSB-WC accuracy 22.99%\n",
      "AM-SSB-SC accuracy 62.14%\n",
      "AM-DSB-WC accuracy 78.06%\n",
      "AM-DSB-SC accuracy 3.55%\n",
      "FM accuracy 78.28%\n",
      "GMSK accuracy 65.53%\n",
      "OQPSK accuracy 61.75%\n",
      "\n",
      "testing seven_layers:\n",
      "OOK accuracy 80.44%\n",
      "4ASK accuracy 49.46%\n",
      "8ASK accuracy 70.19%\n",
      "BPSK accuracy 83.59%\n",
      "QPSK accuracy 70.25%\n",
      "8PSK accuracy 61.06%\n",
      "16PSK accuracy 0.00%\n",
      "32PSK accuracy 0.00%\n",
      "16APSK accuracy 0.00%\n",
      "32APSK accuracy 0.00%\n",
      "64APSK accuracy 0.00%\n",
      "128APSK accuracy 0.00%\n",
      "16QAM accuracy 1.08%\n",
      "32QAM accuracy 24.94%\n",
      "64QAM accuracy 43.48%\n",
      "128QAM accuracy 4.90%\n",
      "256QAM accuracy 7.03%\n",
      "AM-SSB-WC accuracy 41.29%\n",
      "AM-SSB-SC accuracy 45.76%\n",
      "AM-DSB-WC accuracy 36.63%\n",
      "AM-DSB-SC accuracy 45.43%\n",
      "FM accuracy 77.22%\n",
      "GMSK accuracy 63.28%\n",
      "OQPSK accuracy 64.18%\n",
      "\n",
      "testing eight_layers:\n",
      "OOK accuracy 74.13%\n",
      "4ASK accuracy 69.53%\n",
      "8ASK accuracy 48.26%\n",
      "BPSK accuracy 72.24%\n",
      "QPSK accuracy 80.65%\n",
      "8PSK accuracy 70.37%\n",
      "16PSK accuracy 0.00%\n",
      "32PSK accuracy 0.00%\n",
      "16APSK accuracy 0.00%\n",
      "32APSK accuracy 0.00%\n",
      "64APSK accuracy 0.00%\n",
      "128APSK accuracy 0.00%\n",
      "16QAM accuracy 42.28%\n",
      "32QAM accuracy 1.83%\n",
      "64QAM accuracy 0.00%\n",
      "128QAM accuracy 0.15%\n",
      "256QAM accuracy 33.26%\n",
      "AM-SSB-WC accuracy 17.16%\n",
      "AM-SSB-SC accuracy 69.47%\n",
      "AM-DSB-WC accuracy 68.84%\n",
      "AM-DSB-SC accuracy 16.65%\n",
      "FM accuracy 75.75%\n",
      "GMSK accuracy 63.73%\n",
      "OQPSK accuracy 62.26%\n"
     ]
    }
   ],
   "source": [
    "model_list = ['five_layers', 'six_layers', 'seven_layers', 'eight_layers']\n",
    "for model in model_list:\n",
    "    print('\\n' + f'testing {model}:')\n",
    "    model = keras.models.load_model(f'./models/{model}')\n",
    "    testAccuracy(model, test_data)"
   ]
  }
 ],
 "metadata": {
  "kernelspec": {
   "display_name": "Python 3 (ipykernel)",
   "language": "python",
   "name": "python3"
  },
  "language_info": {
   "codemirror_mode": {
    "name": "ipython",
    "version": 3
   },
   "file_extension": ".py",
   "mimetype": "text/x-python",
   "name": "python",
   "nbconvert_exporter": "python",
   "pygments_lexer": "ipython3",
   "version": "3.8.10"
  }
 },
 "nbformat": 4,
 "nbformat_minor": 5
}

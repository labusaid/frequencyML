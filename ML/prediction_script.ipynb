{
  "nbformat": 4,
  "nbformat_minor": 0,
  "metadata": {
    "colab": {
      "name": "prediction_script.ipynb",
      "provenance": []
    },
    "kernelspec": {
      "name": "python3",
      "display_name": "Python 3"
    },
    "language_info": {
      "name": "python"
    }
  },
  "cells": [
    {
      "cell_type": "code",
      "metadata": {
        "id": "KcCdql1H3Kxu"
      },
      "source": [
        "#import block\n",
        "import tensorflow as tf\n",
        "import h5py\n",
        "import numpy as np\n",
        "import json\n",
        "import pandas as pd\n",
        "import math\n",
        "from matplotlib import pyplot as plt\n",
        "from sklearn.utils import shuffle\n",
        "from google.colab import files"
      ],
      "execution_count": null,
      "outputs": []
    },
    {
      "cell_type": "code",
      "metadata": {
        "id": "u5g9uxU1ozKc"
      },
      "source": [
        "#Function block for grabbing a section of the data\n",
        "def grabData(hf, step=1):\n",
        "  samples = hf['X'][::step]\n",
        "  modulation_classes = hf['Y'][::step]\n",
        "  \n",
        "\n",
        "  mod_array = np.zeros(len(modulation_classes))\n",
        "  i = 0\n",
        "  for x in modulation_classes:\n",
        "    mod_array[i] = np.where(x==1)[0][0]\n",
        "    i = i + 1\n",
        "\n",
        "  return samples, mod_array"
      ],
      "execution_count": null,
      "outputs": []
    },
    {
      "cell_type": "code",
      "metadata": {
        "id": "RbLm8iGS90Li"
      },
      "source": [
        "#MAIN BLOCK\n",
        "def main():\n",
        "  #if-else block for uploading hdf5 file\n",
        "  user_input = input(\"Would you like to directly upload your hdf5(1) or import it from drive(2): \")\n",
        "  if(int(user_input) == 1):\n",
        "    hdf_upload = files.upload()\n",
        "    hdf_val = list(hdf_upload.keys())\n",
        "    hdf_key = hdf_val[0]\n",
        "    \n",
        "    user_input = input(\"Is the file uploaded zipped(1)? \")\n",
        "    if(int(user_input) == 1):\n",
        "      !unzip -qq $hdf_key\n",
        "    \n",
        "    hdf_name = hdf_key.split(\".\")\n",
        "    hdf_name = hdf_name[0] + \".hdf5\"\n",
        "    \n",
        "    #For simplification, hdf5 format should be a group for the samples(X) and a group for the label(Y)\n",
        "    hdf5_file = h5py.File(hdf_name,  'r')\n",
        "    print(list(hdf5_file.keys()))\n",
        "  else:\n",
        "    file_path = input(\"Enter in the path of the file in google drive\")\n",
        "    \n",
        "    user_input = input(\"Is the file uploaded zipped(1)? \")\n",
        "    if(int(user_input) == 1):\n",
        "      !unzip -qq $file_path\n",
        "      \n",
        "      path_list = file_path.split(\"/\")\n",
        "      file_name = path_list[-1]\n",
        "      file_split = file_name.split(\".\")\n",
        "      file_raw = file_split[0]\n",
        "      \n",
        "      file_raw = file_raw + \".hdf5\"\n",
        "      hdf5_file = h5py.File(file_raw, 'r')\n",
        "    \n",
        "    hdf5_file = h5py.File(file_path, 'r')\n",
        "    print(list(hdf5_file.keys()))\n",
        "\n",
        "  #if-else block for uploading hdf5\n",
        "  user_input = input(\"For the model, is it zipped(1) on google drive? \")\n",
        "  if(int(user_input) == 1):\n",
        "    file_path = input(\"Enter the file path for the model: \")\n",
        "    !unzip -qq $file_path \n",
        "    file_split = file_path.split(\"/\")\n",
        "    file_split = file_split[-1].split(\".\")\n",
        "    model_dir = file_split[0]\n",
        "    model_dir = \"content/\" + model_dir\n",
        "    print(model_dir)\n",
        "    loaded_model = tf.keras.models.load_model(model_dir)\n",
        "  else:\n",
        "    file_path = input(\"Enter the file path for the model: \")\n",
        "    loaded_model = tf.keras.models.load_model(file_path)\n",
        "  \n",
        "  #Grab data from the hdf5 file\n",
        "  fraction = 1\n",
        "  samples = hdf5_file['X'][::fraction]\n",
        "  modulation = hdf5_file['Y'][::fraction]\n",
        "\n",
        "  mod_array = np.zeros(len(modulation))\n",
        "  i = 0\n",
        "  for x in modulation:\n",
        "    mod_array[i] = np.where(x==1)[0][0]\n",
        "    i = i + 1\n",
        "\n",
        "  #grab predictions, and check the accuracy percentage\n",
        "  results = loaded_model.predict(samples)\n",
        "  predictions = [p.argmax() for p in results]\n",
        "  \n",
        "  num_correct = 0\n",
        "  for x in range(len(predictions)):\n",
        "    print(\"Sample {0} | Model Prediction: {1} | Correct Label: {2}\".format(x, predictions[x], mod_array[x]))\n",
        "    if(mod_array[x] == predictions[x]):\n",
        "      num_correct = num_correct + 1\n",
        "\n",
        "  print(\"Total predictions made: {0}\".format(len(predictions)))\n",
        "  print(\"Precentage of correct predictions: {:.2%}\".format(num_correct/len(predictions)))\n",
        "    \n",
        "  \n",
        "  \n",
        "\n",
        "\n",
        "if __name__ == \"__main__\":\n",
        "    main()"
      ],
      "execution_count": null,
      "outputs": []
    },
    {
      "cell_type": "code",
      "metadata": {
        "id": "JNYPsF9LBCiD"
      },
      "source": [
        "#SAVEDMODEL IMPORT BLOCK\n",
        "\n",
        "#This script uses the SavedModel format for loading in a model\n",
        "#The SavedModel format is a folder containing a complete tensorflow program\n",
        "#containing complete model architecture along with trained parameters \n",
        "\n",
        "#Because of how the SavedModel format is stored, it's more convenient to store\n",
        "#it google drive, and unzip directly from there to google colab\n",
        "\n",
        "#use the following command to unzip the model to google colab\n",
        "#! !unzip -qq '/path_to_SavedModel_in_google_drive/model.zip' \n",
        "\n",
        "#For testing\n",
        "!unzip -qq '/content/drive/MyDrive/DS_shuffled.zip' "
      ],
      "execution_count": null,
      "outputs": []
    }
  ]
}
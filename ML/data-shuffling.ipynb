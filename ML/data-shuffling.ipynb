{
 "cells": [
  {
   "cell_type": "code",
   "execution_count": null,
   "metadata": {
    "_cell_guid": "b1076dfc-b9ad-4769-8c92-a6c4dae69d19",
    "_uuid": "8f2839f25d086af736a60e9eeb907d3b93b6e0e5",
    "execution": {
     "iopub.execute_input": "2021-10-29T21:55:17.210542Z",
     "iopub.status.busy": "2021-10-29T21:55:17.210112Z",
     "iopub.status.idle": "2021-10-29T21:55:22.218841Z",
     "shell.execute_reply": "2021-10-29T21:55:22.21816Z",
     "shell.execute_reply.started": "2021-10-29T21:55:17.21045Z"
    }
   },
   "outputs": [],
   "source": [
    "#code block for loading in DeepSig data from hdf5 file\n",
    "import tensorflow as tf\n",
    "import h5py\n",
    "import numpy as np\n",
    "import json\n",
    "import pandas as pd\n",
    "import math\n",
    "\n",
    "# Open the dataset from kaggle repo\n",
    "hdf5_file = h5py.File(\"/kaggle/input/radioml2018/GOLD_XYZ_OSC.0001_1024.hdf5\",  'r')\n",
    "# Load the modulation classes. You can also copy and paste the content of classes-fixed.txt.\n",
    "modulation_classes = json.load(open(\"/kaggle/input/radioml2018/classes-fixed.json\", 'r'))\n",
    "#List groups of the hdf5 file\n",
    "list(hdf5_file.keys())\n",
    "\n",
    "#opening up new hdf5 file\n",
    "f_shuffle = h5py.File(\"./DeepSig_XYZ_OSC.0001_1024_Shuffled.hdf5\", \"a\")\n",
    "#creating the file groups\n",
    "x_shuf = f_shuffle.create_dataset(\"X\", (2555904,1024,2), dtype='f')\n",
    "y_shuf = f_shuffle.create_dataset(\"Y\", (2555904, 24), dtype='i')\n",
    "z_shuf = f_shuffle.create_dataset(\"Z\", (2555904,1), dtype='i')\n",
    "#creating the datasets in each group\n",
    "\n",
    "qrt_one = 638976\n",
    "qrt_two = 1277952\n",
    "qrt_three = 1916928\n",
    "\n",
    "\n",
    "# Read the HDF5 groups, loading the entire group into numpy arrays\n",
    "#samples = hdf5_file['X'][:638976:]\n",
    "#modulation_onehot = hdf5_file['Y'][:638976:]\n",
    "#snr = hdf5_file['Z'][:638976:]"
   ]
  },
  {
   "cell_type": "code",
   "execution_count": null,
   "metadata": {
    "execution": {
     "iopub.execute_input": "2021-10-29T21:57:50.245329Z",
     "iopub.status.busy": "2021-10-29T21:57:50.244404Z",
     "iopub.status.idle": "2021-10-29T21:58:33.639015Z",
     "shell.execute_reply": "2021-10-29T21:58:33.637838Z",
     "shell.execute_reply.started": "2021-10-29T21:57:50.245279Z"
    }
   },
   "outputs": [],
   "source": [
    "# Read the HDF5 groups, loading the entire group into numpy arrays\n",
    "samples = hdf5_file['X'][:qrt_one:]\n",
    "modulation_onehot = hdf5_file['Y'][:qrt_one:]\n",
    "snr = hdf5_file['Z'][:qrt_one:]"
   ]
  },
  {
   "cell_type": "code",
   "execution_count": null,
   "metadata": {
    "execution": {
     "iopub.execute_input": "2021-10-29T21:59:14.648775Z",
     "iopub.status.busy": "2021-10-29T21:59:14.648495Z",
     "iopub.status.idle": "2021-10-29T21:59:20.574427Z",
     "shell.execute_reply": "2021-10-29T21:59:20.573142Z",
     "shell.execute_reply.started": "2021-10-29T21:59:14.648746Z"
    }
   },
   "outputs": [],
   "source": [
    "#creation of  shuffled arrays from DeepSig dataset using sklearns's shuffle function\n",
    "from sklearn.utils import shuffle\n",
    "samples, modulation_onehot, snr = shuffle(samples, modulation_onehot, snr, random_state=0)\n",
    "\n",
    "print(samples)\n",
    "print(modulation_onehot)\n",
    "print(snr)"
   ]
  },
  {
   "cell_type": "code",
   "execution_count": null,
   "metadata": {
    "execution": {
     "iopub.execute_input": "2021-10-29T22:00:15.235598Z",
     "iopub.status.busy": "2021-10-29T22:00:15.234731Z",
     "iopub.status.idle": "2021-10-29T22:00:54.253296Z",
     "shell.execute_reply": "2021-10-29T22:00:54.252348Z",
     "shell.execute_reply.started": "2021-10-29T22:00:15.235537Z"
    }
   },
   "outputs": [],
   "source": [
    "x_shuf[:qrt_one:] = samples[::]\n",
    "y_shuf[:qrt_one:] = modulation_onehot[::]\n",
    "y_shuf[:qrt_one:] = snr[::]"
   ]
  },
  {
   "cell_type": "code",
   "execution_count": null,
   "metadata": {
    "execution": {
     "iopub.execute_input": "2021-10-29T22:01:44.130163Z",
     "iopub.status.busy": "2021-10-29T22:01:44.129857Z",
     "iopub.status.idle": "2021-10-29T22:02:31.628291Z",
     "shell.execute_reply": "2021-10-29T22:02:31.627156Z",
     "shell.execute_reply.started": "2021-10-29T22:01:44.130126Z"
    }
   },
   "outputs": [],
   "source": [
    "# Read the HDF5 groups, loading the entire group into numpy arrays\n",
    "samples = hdf5_file['X'][qrt_one:qrt_two:]\n",
    "modulation_onehot = hdf5_file['Y'][qrt_one:qrt_two:]\n",
    "snr = hdf5_file['Z'][qrt_one:qrt_two:]"
   ]
  },
  {
   "cell_type": "code",
   "execution_count": null,
   "metadata": {
    "execution": {
     "iopub.execute_input": "2021-10-29T22:02:44.047174Z",
     "iopub.status.busy": "2021-10-29T22:02:44.046866Z",
     "iopub.status.idle": "2021-10-29T22:02:47.051964Z",
     "shell.execute_reply": "2021-10-29T22:02:47.050585Z",
     "shell.execute_reply.started": "2021-10-29T22:02:44.047141Z"
    }
   },
   "outputs": [],
   "source": [
    "#creation of  shuffled arrays from DeepSig dataset using sklearns's shuffle function\n",
    "from sklearn.utils import shuffle\n",
    "samples, modulation_onehot, snr = shuffle(samples, modulation_onehot, snr, random_state=0)\n",
    "\n",
    "print(samples)\n",
    "print(modulation_onehot)\n",
    "print(snr)"
   ]
  },
  {
   "cell_type": "code",
   "execution_count": null,
   "metadata": {
    "execution": {
     "iopub.execute_input": "2021-10-29T22:03:00.59586Z",
     "iopub.status.busy": "2021-10-29T22:03:00.595573Z",
     "iopub.status.idle": "2021-10-29T22:03:37.481013Z",
     "shell.execute_reply": "2021-10-29T22:03:37.480338Z",
     "shell.execute_reply.started": "2021-10-29T22:03:00.595832Z"
    }
   },
   "outputs": [],
   "source": [
    "x_shuf[qrt_one:qrt_two:] = samples[::]\n",
    "y_shuf[qrt_one:qrt_two:] = modulation_onehot[::]\n",
    "y_shuf[qrt_one:qrt_two:] = snr[::]"
   ]
  },
  {
   "cell_type": "code",
   "execution_count": null,
   "metadata": {
    "execution": {
     "iopub.execute_input": "2021-10-29T22:03:58.623612Z",
     "iopub.status.busy": "2021-10-29T22:03:58.622398Z",
     "iopub.status.idle": "2021-10-29T22:05:02.157611Z",
     "shell.execute_reply": "2021-10-29T22:05:02.156299Z",
     "shell.execute_reply.started": "2021-10-29T22:03:58.623553Z"
    }
   },
   "outputs": [],
   "source": [
    "# Read the HDF5 groups, loading the entire group into numpy arrays\n",
    "samples = hdf5_file['X'][qrt_two:qrt_three:]\n",
    "modulation_onehot = hdf5_file['Y'][qrt_two:qrt_three:]\n",
    "snr = hdf5_file['Z'][qrt_two:qrt_three:]"
   ]
  },
  {
   "cell_type": "code",
   "execution_count": null,
   "metadata": {
    "execution": {
     "iopub.execute_input": "2021-10-29T22:05:37.076938Z",
     "iopub.status.busy": "2021-10-29T22:05:37.075869Z",
     "iopub.status.idle": "2021-10-29T22:05:39.682535Z",
     "shell.execute_reply": "2021-10-29T22:05:39.681704Z",
     "shell.execute_reply.started": "2021-10-29T22:05:37.076873Z"
    }
   },
   "outputs": [],
   "source": [
    "#creation of  shuffled arrays from DeepSig dataset using sklearns's shuffle function\n",
    "from sklearn.utils import shuffle\n",
    "samples, modulation_onehot, snr = shuffle(samples, modulation_onehot, snr, random_state=0)\n",
    "\n",
    "print(samples)\n",
    "print(modulation_onehot)\n",
    "print(snr)"
   ]
  },
  {
   "cell_type": "code",
   "execution_count": null,
   "metadata": {
    "execution": {
     "iopub.execute_input": "2021-10-29T22:05:46.14174Z",
     "iopub.status.busy": "2021-10-29T22:05:46.141399Z",
     "iopub.status.idle": "2021-10-29T22:06:23.610479Z",
     "shell.execute_reply": "2021-10-29T22:06:23.609524Z",
     "shell.execute_reply.started": "2021-10-29T22:05:46.1417Z"
    }
   },
   "outputs": [],
   "source": [
    "x_shuf[qrt_two:qrt_three:] = samples[::]\n",
    "y_shuf[qrt_two:qrt_three:] = modulation_onehot[::]\n",
    "y_shuf[qrt_two:qrt_three:] = snr[::]"
   ]
  },
  {
   "cell_type": "code",
   "execution_count": null,
   "metadata": {
    "execution": {
     "iopub.execute_input": "2021-10-29T22:06:32.609069Z",
     "iopub.status.busy": "2021-10-29T22:06:32.608705Z",
     "iopub.status.idle": "2021-10-29T22:07:38.217597Z",
     "shell.execute_reply": "2021-10-29T22:07:38.216589Z",
     "shell.execute_reply.started": "2021-10-29T22:06:32.609032Z"
    }
   },
   "outputs": [],
   "source": [
    "# Read the HDF5 groups, loading the entire group into numpy arrays\n",
    "samples = hdf5_file['X'][qrt_three::]\n",
    "modulation_onehot = hdf5_file['Y'][qrt_three::]\n",
    "snr = hdf5_file['Z'][qrt_three::]"
   ]
  },
  {
   "cell_type": "code",
   "execution_count": null,
   "metadata": {
    "execution": {
     "iopub.execute_input": "2021-10-29T22:08:09.563048Z",
     "iopub.status.busy": "2021-10-29T22:08:09.562699Z",
     "iopub.status.idle": "2021-10-29T22:08:12.230277Z",
     "shell.execute_reply": "2021-10-29T22:08:12.229048Z",
     "shell.execute_reply.started": "2021-10-29T22:08:09.563013Z"
    }
   },
   "outputs": [],
   "source": [
    "#creation of  shuffled arrays from DeepSig dataset using sklearns's shuffle function\n",
    "from sklearn.utils import shuffle\n",
    "samples, modulation_onehot, snr = shuffle(samples, modulation_onehot, snr, random_state=0)\n",
    "\n",
    "print(samples)\n",
    "print(modulation_onehot)\n",
    "print(snr)"
   ]
  },
  {
   "cell_type": "code",
   "execution_count": null,
   "metadata": {
    "execution": {
     "iopub.execute_input": "2021-10-29T22:08:20.237569Z",
     "iopub.status.busy": "2021-10-29T22:08:20.237014Z",
     "iopub.status.idle": "2021-10-29T22:08:53.948592Z",
     "shell.execute_reply": "2021-10-29T22:08:53.947529Z",
     "shell.execute_reply.started": "2021-10-29T22:08:20.237532Z"
    }
   },
   "outputs": [],
   "source": [
    "x_shuf[qrt_three::] = samples[::]\n",
    "y_shuf[qrt_three::] = modulation_onehot[::]\n",
    "y_shuf[qrt_three::] = snr[::]"
   ]
  }
 ],
 "metadata": {
  "kernelspec": {
   "display_name": "Python 3 (ipykernel)",
   "language": "python",
   "name": "python3"
  },
  "language_info": {
   "codemirror_mode": {
    "name": "ipython",
    "version": 3
   },
   "file_extension": ".py",
   "mimetype": "text/x-python",
   "name": "python",
   "nbconvert_exporter": "python",
   "pygments_lexer": "ipython3",
   "version": "3.8.10"
  }
 },
 "nbformat": 4,
 "nbformat_minor": 4
}

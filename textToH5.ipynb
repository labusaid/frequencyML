{
 "cells": [
  {
   "cell_type": "code",
   "execution_count": 1,
   "id": "d75e4276",
   "metadata": {},
   "outputs": [],
   "source": [
    "import pandas as pd\n",
    "import numpy as np\n",
    "import h5py\n",
    "from pandas import HDFStore"
   ]
  },
  {
   "cell_type": "code",
   "execution_count": 2,
   "id": "e437194c",
   "metadata": {},
   "outputs": [],
   "source": [
    "data = np.loadtxt(\"IQData.txt\", skiprows=1, dtype='float')"
   ]
  },
  {
   "cell_type": "code",
   "execution_count": 3,
   "id": "b8014bc1",
   "metadata": {},
   "outputs": [],
   "source": [
    "IQarray = np.array([0,0], float)"
   ]
  },
  {
   "cell_type": "code",
   "execution_count": 4,
   "id": "453e78a7",
   "metadata": {},
   "outputs": [],
   "source": [
    "IQarray = data"
   ]
  },
  {
   "cell_type": "code",
   "execution_count": 5,
   "id": "2b7fccb6",
   "metadata": {},
   "outputs": [
    {
     "name": "stdout",
     "output_type": "stream",
     "text": [
      "(513200, 2)\n"
     ]
    }
   ],
   "source": [
    "print(IQarray.shape)"
   ]
  },
  {
   "cell_type": "code",
   "execution_count": 6,
   "id": "460cefee",
   "metadata": {
    "scrolled": true
   },
   "outputs": [],
   "source": [
    "f1 = h5py.File(\"data.hdf5\", \"w\")\n",
    "dset = f1.create_dataset(\"IQ dataset\", (513200,2), dtype='f', data=IQarray)\n",
    "f1.close()"
   ]
  }
 ],
 "metadata": {
  "kernelspec": {
   "display_name": "Python 3",
   "language": "python",
   "name": "python3"
  },
  "language_info": {
   "codemirror_mode": {
    "name": "ipython",
    "version": 3
   },
   "file_extension": ".py",
   "mimetype": "text/x-python",
   "name": "python",
   "nbconvert_exporter": "python",
   "pygments_lexer": "ipython3",
   "version": "3.8.8"
  }
 },
 "nbformat": 4,
 "nbformat_minor": 5
}
